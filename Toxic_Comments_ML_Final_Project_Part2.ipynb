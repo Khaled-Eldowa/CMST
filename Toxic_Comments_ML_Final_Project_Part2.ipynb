{
  "nbformat": 4,
  "nbformat_minor": 0,
  "metadata": {
    "colab": {
      "name": "Toxic_Comments_ML_Final Project_Part2.ipynb",
      "version": "0.3.2",
      "provenance": [],
      "include_colab_link": true
    },
    "kernelspec": {
      "name": "python3",
      "display_name": "Python 3"
    },
    "accelerator": "GPU"
  },
  "cells": [
    {
      "cell_type": "markdown",
      "metadata": {
        "id": "view-in-github",
        "colab_type": "text"
      },
      "source": [
        "<a href=\"https://colab.research.google.com/github/Khaled-Eldowa/CMST/blob/master/Toxic_Comments_ML_Final_Project_Part2.ipynb\" target=\"_parent\"><img src=\"https://colab.research.google.com/assets/colab-badge.svg\" alt=\"Open In Colab\"/></a>"
      ]
    },
    {
      "cell_type": "markdown",
      "metadata": {
        "id": "gZYLwiRK3KdX",
        "colab_type": "text"
      },
      "source": [
        "# Beginning of Part 2"
      ]
    },
    {
      "cell_type": "markdown",
      "metadata": {
        "id": "-zU4jpAz8PTx",
        "colab_type": "text"
      },
      "source": [
        "As we mentioned before, in this part we will send the data through two stages; one for binary classification, and the second for multi-label classifciation on the comments that were classified as not-clean in the first stage. Finally, we will combine the predictions and evaluate again."
      ]
    },
    {
      "cell_type": "code",
      "metadata": {
        "id": "im9GhXgoWQLG",
        "colab_type": "code",
        "colab": {}
      },
      "source": [
        "import pandas as pd\n",
        "import numpy as np"
      ],
      "execution_count": 0,
      "outputs": []
    },
    {
      "cell_type": "code",
      "metadata": {
        "id": "RPu0m8fUWrpP",
        "colab_type": "code",
        "colab": {
          "base_uri": "https://localhost:8080/",
          "height": 513
        },
        "outputId": "e54957c3-ce72-4933-e564-615a5f7394d2"
      },
      "source": [
        "!pip install kaggle\n",
        "!mkdir ~/.kaggle\n",
        "!mkdir ./.kaggle\n",
        "import json\n",
        "token = {\"username\":\"cyaniderxx\",\"key\":\"24da407480fcb4682ad5b8f60addbd68\"}\n",
        "with open('/content/.kaggle/kaggle.json', 'w') as file:\n",
        "    json.dump(token, file)\n",
        "!cp /content/.kaggle/kaggle.json ~/.kaggle/kaggle.json\n",
        "!kaggle config set -n path -v{/content}\n",
        "!chmod 600 /root/.kaggle/kaggle.json\n",
        "!kaggle competitions download -c jigsaw-toxic-comment-classification-challenge\n",
        "!kaggle datasets download -d yliu9999/glove6b50d"
      ],
      "execution_count": 6,
      "outputs": [
        {
          "output_type": "stream",
          "text": [
            "Requirement already satisfied: kaggle in /usr/local/lib/python3.6/dist-packages (1.5.4)\n",
            "Requirement already satisfied: python-slugify in /usr/local/lib/python3.6/dist-packages (from kaggle) (3.0.2)\n",
            "Requirement already satisfied: certifi in /usr/local/lib/python3.6/dist-packages (from kaggle) (2019.3.9)\n",
            "Requirement already satisfied: tqdm in /usr/local/lib/python3.6/dist-packages (from kaggle) (4.28.1)\n",
            "Requirement already satisfied: urllib3<1.25,>=1.21.1 in /usr/local/lib/python3.6/dist-packages (from kaggle) (1.24.3)\n",
            "Requirement already satisfied: six>=1.10 in /usr/local/lib/python3.6/dist-packages (from kaggle) (1.12.0)\n",
            "Requirement already satisfied: requests in /usr/local/lib/python3.6/dist-packages (from kaggle) (2.21.0)\n",
            "Requirement already satisfied: python-dateutil in /usr/local/lib/python3.6/dist-packages (from kaggle) (2.5.3)\n",
            "Requirement already satisfied: text-unidecode==1.2 in /usr/local/lib/python3.6/dist-packages (from python-slugify->kaggle) (1.2)\n",
            "Requirement already satisfied: chardet<3.1.0,>=3.0.2 in /usr/local/lib/python3.6/dist-packages (from requests->kaggle) (3.0.4)\n",
            "Requirement already satisfied: idna<2.9,>=2.5 in /usr/local/lib/python3.6/dist-packages (from requests->kaggle) (2.8)\n",
            "Warning: Your Kaggle API key is readable by other users on this system! To fix this, you can run 'chmod 600 /root/.kaggle/kaggle.json'\n",
            "- path is now set to: {/content}\n",
            "Downloading sample_submission.csv.zip to {/content}/competitions/jigsaw-toxic-comment-classification-challenge\n",
            "  0% 0.00/1.39M [00:00<?, ?B/s]\n",
            "100% 1.39M/1.39M [00:00<00:00, 92.1MB/s]\n",
            "Downloading test.csv.zip to {/content}/competitions/jigsaw-toxic-comment-classification-challenge\n",
            " 38% 9.00M/23.4M [00:00<00:01, 13.7MB/s]\n",
            "100% 23.4M/23.4M [00:00<00:00, 34.3MB/s]\n",
            "Downloading train.csv.zip to {/content}/competitions/jigsaw-toxic-comment-classification-challenge\n",
            " 80% 21.0M/26.3M [00:00<00:00, 17.1MB/s]\n",
            "100% 26.3M/26.3M [00:00<00:00, 31.9MB/s]\n",
            "Downloading test_labels.csv.zip to {/content}/competitions/jigsaw-toxic-comment-classification-challenge\n",
            "  0% 0.00/1.46M [00:00<?, ?B/s]\n",
            "100% 1.46M/1.46M [00:00<00:00, 97.6MB/s]\n",
            "Downloading glove6b50d.zip to {/content}/datasets/yliu9999/glove6b50d\n",
            " 68% 46.0M/67.7M [00:01<00:01, 18.8MB/s]\n",
            "100% 67.7M/67.7M [00:01<00:00, 43.8MB/s]\n"
          ],
          "name": "stdout"
        }
      ]
    },
    {
      "cell_type": "code",
      "metadata": {
        "id": "KYTIzvLzWzrt",
        "colab_type": "code",
        "colab": {
          "base_uri": "https://localhost:8080/",
          "height": 187
        },
        "outputId": "7487ffb0-0490-4834-ebfb-2de8afdd76ce"
      },
      "source": [
        "!unzip ./{/content}/competitions/jigsaw-toxic-comment-classification-challenge/sample_submission.csv.zip\n",
        "!unzip ./{/content}/competitions/jigsaw-toxic-comment-classification-challenge/test.csv.zip\n",
        "!unzip ./{/content}/competitions/jigsaw-toxic-comment-classification-challenge/test_labels.csv.zip\n",
        "!unzip ./{/content}/competitions/jigsaw-toxic-comment-classification-challenge/train.csv.zip\n",
        "!unzip ./{/content}/datasets/yliu9999/glove6b50d/glove6b50d.zip"
      ],
      "execution_count": 12,
      "outputs": [
        {
          "output_type": "stream",
          "text": [
            "Archive:  ./{/content}/competitions/jigsaw-toxic-comment-classification-challenge/sample_submission.csv.zip\n",
            "replace sample_submission.csv? [y]es, [n]o, [A]ll, [N]one, [r]ename: n\n",
            "Archive:  ./{/content}/competitions/jigsaw-toxic-comment-classification-challenge/test.csv.zip\n",
            "replace test.csv? [y]es, [n]o, [A]ll, [N]one, [r]ename: n\n",
            "Archive:  ./{/content}/competitions/jigsaw-toxic-comment-classification-challenge/test_labels.csv.zip\n",
            "replace test_labels.csv? [y]es, [n]o, [A]ll, [N]one, [r]ename: n\n",
            "Archive:  ./{/content}/competitions/jigsaw-toxic-comment-classification-challenge/train.csv.zip\n",
            "replace train.csv? [y]es, [n]o, [A]ll, [N]one, [r]ename: n\n",
            "Archive:  ./{/content}/datasets/yliu9999/glove6b50d/glove6b50d.zip\n",
            "  inflating: glove.6B.50d.txt        \n"
          ],
          "name": "stdout"
        }
      ]
    },
    {
      "cell_type": "code",
      "metadata": {
        "id": "61rra_MTXDie",
        "colab_type": "code",
        "colab": {
          "base_uri": "https://localhost:8080/",
          "height": 34
        },
        "outputId": "ee476bd9-ca86-47c0-bee8-ed1195011be6"
      },
      "source": [
        "import sys, os, re, csv, codecs\n",
        "\n",
        "from keras.preprocessing.text import Tokenizer, text_to_word_sequence\n",
        "from keras.preprocessing.sequence import pad_sequences\n",
        "from keras.layers import Dense, Input, LSTM, Embedding, Dropout, Activation\n",
        "from keras.layers import Bidirectional, GlobalMaxPool1D, Flatten\n",
        "from keras.models import Model\n",
        "from keras import initializers, regularizers, constraints, optimizers, layers\n",
        "import matplotlib.pyplot as plt\n",
        "from sklearn.model_selection import train_test_split\n",
        "from sklearn.metrics import accuracy_score"
      ],
      "execution_count": 2,
      "outputs": [
        {
          "output_type": "stream",
          "text": [
            "Using TensorFlow backend.\n"
          ],
          "name": "stderr"
        }
      ]
    },
    {
      "cell_type": "markdown",
      "metadata": {
        "id": "Ly45wtx79mYe",
        "colab_type": "text"
      },
      "source": [
        "Here we read the dataset, split it, and tokenize it:"
      ]
    },
    {
      "cell_type": "code",
      "metadata": {
        "id": "GXG3HMgBXoAd",
        "colab_type": "code",
        "colab": {}
      },
      "source": [
        "train = pd.read_csv('train.csv')\n",
        "\n",
        "#https://www.kaggle.com/jhoward/nb-svm-strong-linear-baseline\n",
        "label_cols = ['toxic', 'severe_toxic', 'obscene', 'threat', 'insult', 'identity_hate']\n",
        "train['none'] = 1-train[label_cols].max(axis=1)"
      ],
      "execution_count": 0,
      "outputs": []
    },
    {
      "cell_type": "code",
      "metadata": {
        "id": "XzLFMZp_Xnbv",
        "colab_type": "code",
        "colab": {}
      },
      "source": [
        "list_classes = ['toxic', 'severe_toxic', 'obscene', 'threat', 'insult', 'identity_hate', 'none']"
      ],
      "execution_count": 0,
      "outputs": []
    },
    {
      "cell_type": "markdown",
      "metadata": {
        "id": "4-kjSJPr_6Kr",
        "colab_type": "text"
      },
      "source": [
        "here the target is just one column (1 for clean, 0 for labelled)"
      ]
    },
    {
      "cell_type": "code",
      "metadata": {
        "id": "PVi8e-5WXAo1",
        "colab_type": "code",
        "colab": {}
      },
      "source": [
        "X_train,X_test,y_train,y_test = train_test_split(train[\"comment_text\"], train['none'],test_size=0.2,random_state=10)"
      ],
      "execution_count": 0,
      "outputs": []
    },
    {
      "cell_type": "code",
      "metadata": {
        "id": "1_WovxhrYM9e",
        "colab_type": "code",
        "colab": {}
      },
      "source": [
        "import string\n",
        "maxlen = 50\n",
        "#list sentences from the dataset\n",
        "list_sentences_train = X_train.fillna(\"_na_\").values\n",
        "list_sentences_test = X_test.fillna(\"_na_\").values\n",
        "y_t = y_train.values\n",
        "y_te = y_test.values\n",
        "\n",
        "tokenizer = Tokenizer(split = f'([{string.punctuation}“”¨«»®´·º½¾¿¡§£₤‘’])', lower = True)\n",
        "tokenizer.fit_on_texts(list(list_sentences_train))\n",
        "list_tokenized_train = tokenizer.texts_to_sequences(list_sentences_train)\n",
        "list_tokenized_test = tokenizer.texts_to_sequences(list_sentences_test)\n",
        "X_t = pad_sequences(list_tokenized_train, maxlen=maxlen)\n",
        "X_te = pad_sequences(list_tokenized_test, maxlen=maxlen)"
      ],
      "execution_count": 0,
      "outputs": []
    },
    {
      "cell_type": "markdown",
      "metadata": {
        "id": "xGd1wOCn-K8R",
        "colab_type": "text"
      },
      "source": [
        "For the first stage, we considered the use of three models: NB-SVM, NB-Logistic Regression, and LSTM. Here we test each one of them to see which one is the best:"
      ]
    },
    {
      "cell_type": "markdown",
      "metadata": {
        "id": "htT3dwq8evGH",
        "colab_type": "text"
      },
      "source": [
        "# First Stage (NB-SVM)"
      ]
    },
    {
      "cell_type": "markdown",
      "metadata": {
        "id": "P8oI8iyL-9Uq",
        "colab_type": "text"
      },
      "source": [
        "Naive Bayes SVM was proposed as a good algorithm for sentiment analysis. We used the code from: https://www.kaggle.com/jhoward/nb-svm-strong-linear-baseline but we modified it to work with just one target variable (clean)."
      ]
    },
    {
      "cell_type": "code",
      "metadata": {
        "id": "HteX-JYbgaJu",
        "colab_type": "code",
        "colab": {}
      },
      "source": [
        "from sklearn.svm import SVC"
      ],
      "execution_count": 0,
      "outputs": []
    },
    {
      "cell_type": "code",
      "metadata": {
        "id": "0Xx5KyKhckCv",
        "colab_type": "code",
        "colab": {}
      },
      "source": [
        "def pr(y_i, y, x):\n",
        "    p = x[y==y_i].sum(0)\n",
        "    return (p+1) / ((y==y_i).sum()+1)"
      ],
      "execution_count": 0,
      "outputs": []
    },
    {
      "cell_type": "code",
      "metadata": {
        "id": "gLjswzfSgQPF",
        "colab_type": "code",
        "colab": {}
      },
      "source": [
        "def get_mdl(x,y):\n",
        "    r = np.log(pr(1,y,x) / pr(0,y,x))\n",
        "    m = SVC(verbose=True)\n",
        "    x_nb = x * r\n",
        "    return m.fit(x_nb, y), r"
      ],
      "execution_count": 0,
      "outputs": []
    },
    {
      "cell_type": "code",
      "metadata": {
        "id": "P5MQJTtDhqZP",
        "colab_type": "code",
        "colab": {
          "base_uri": "https://localhost:8080/",
          "height": 88
        },
        "outputId": "aa27409e-024a-4de6-8bd8-aa68124f343c"
      },
      "source": [
        "m,r = get_mdl(X_t, y_t)"
      ],
      "execution_count": 32,
      "outputs": [
        {
          "output_type": "stream",
          "text": [
            "/usr/local/lib/python3.6/dist-packages/sklearn/svm/base.py:193: FutureWarning: The default value of gamma will change from 'auto' to 'scale' in version 0.22 to account better for unscaled features. Set gamma explicitly to 'auto' or 'scale' to avoid this warning.\n",
            "  \"avoid this warning.\", FutureWarning)\n"
          ],
          "name": "stderr"
        },
        {
          "output_type": "stream",
          "text": [
            "[LibSVM]"
          ],
          "name": "stdout"
        }
      ]
    },
    {
      "cell_type": "code",
      "metadata": {
        "id": "9bELQahdy-kj",
        "colab_type": "code",
        "colab": {}
      },
      "source": [
        "preds = m.predict(X_te * r)"
      ],
      "execution_count": 0,
      "outputs": []
    },
    {
      "cell_type": "code",
      "metadata": {
        "id": "dFycNgUHxi3p",
        "colab_type": "code",
        "colab": {
          "base_uri": "https://localhost:8080/",
          "height": 34
        },
        "outputId": "892ae4d0-e1f5-4a7a-dd31-ce868aabb449"
      },
      "source": [
        "accuracy_score(y_te, preds)"
      ],
      "execution_count": 42,
      "outputs": [
        {
          "output_type": "execute_result",
          "data": {
            "text/plain": [
              "0.8998590004699984"
            ]
          },
          "metadata": {
            "tags": []
          },
          "execution_count": 42
        }
      ]
    },
    {
      "cell_type": "markdown",
      "metadata": {
        "id": "C6GN7tZ-AD1T",
        "colab_type": "text"
      },
      "source": [
        "The accuracy is not bad, but it is deceptive. As we discussed in part 1, the vast majority (about 93%) of the comments are clean (not-labelled), so it might be the case that the algorithm is just classifying almost everything as clean. Let's check the confusion matrix:"
      ]
    },
    {
      "cell_type": "code",
      "metadata": {
        "id": "IDM-6g3rxpOx",
        "colab_type": "code",
        "colab": {}
      },
      "source": [
        "from sklearn.metrics import confusion_matrix as cm"
      ],
      "execution_count": 0,
      "outputs": []
    },
    {
      "cell_type": "code",
      "metadata": {
        "id": "gz0yglhNxvsZ",
        "colab_type": "code",
        "colab": {
          "base_uri": "https://localhost:8080/",
          "height": 51
        },
        "outputId": "c9e98f2d-beb3-4805-c596-6366b1b93188"
      },
      "source": [
        "cm(y_te, preds)"
      ],
      "execution_count": 44,
      "outputs": [
        {
          "output_type": "execute_result",
          "data": {
            "text/plain": [
              "array([[   42,  3139],\n",
              "       [   57, 28677]])"
            ]
          },
          "metadata": {
            "tags": []
          },
          "execution_count": 44
        }
      ]
    },
    {
      "cell_type": "markdown",
      "metadata": {
        "id": "TsIhU90LAxxV",
        "colab_type": "text"
      },
      "source": [
        "We can see that almost all the negatives (not-clean) are classified as positive (top rigth). This doesn't only refute the significance of the accuracy score, it would have left us with almost no tuples for the next stage!"
      ]
    },
    {
      "cell_type": "markdown",
      "metadata": {
        "id": "5U_HCQ1Ox0s5",
        "colab_type": "text"
      },
      "source": [
        "# First Stage (Logistic Regression)"
      ]
    },
    {
      "cell_type": "markdown",
      "metadata": {
        "id": "lqaBc67aBpJM",
        "colab_type": "text"
      },
      "source": [
        "Let's try the same algorithm but with logisitc regression instead of SVM. Here we used C=8, which was obtained after several trials."
      ]
    },
    {
      "cell_type": "code",
      "metadata": {
        "id": "MPW0z5KEx0Ay",
        "colab_type": "code",
        "colab": {}
      },
      "source": [
        "from sklearn.linear_model import LogisticRegression"
      ],
      "execution_count": 0,
      "outputs": []
    },
    {
      "cell_type": "code",
      "metadata": {
        "id": "VFKoCNqxyYIK",
        "colab_type": "code",
        "colab": {}
      },
      "source": [
        "def get_mdl2(x,y):\n",
        "    r = np.log(pr(1,y,x) / pr(0,y,x))\n",
        "    m = LogisticRegression(C=8)\n",
        "    x_nb = x * r\n",
        "    return m.fit(x_nb, y), r"
      ],
      "execution_count": 0,
      "outputs": []
    },
    {
      "cell_type": "code",
      "metadata": {
        "id": "S0znJf8gyuD6",
        "colab_type": "code",
        "colab": {
          "base_uri": "https://localhost:8080/",
          "height": 71
        },
        "outputId": "9de038e9-1560-4682-a4ce-cd301d853a13"
      },
      "source": [
        "m2, r2 = get_mdl2(X_t, y_t)"
      ],
      "execution_count": 66,
      "outputs": [
        {
          "output_type": "stream",
          "text": [
            "/usr/local/lib/python3.6/dist-packages/sklearn/linear_model/logistic.py:432: FutureWarning: Default solver will be changed to 'lbfgs' in 0.22. Specify a solver to silence this warning.\n",
            "  FutureWarning)\n"
          ],
          "name": "stderr"
        }
      ]
    },
    {
      "cell_type": "code",
      "metadata": {
        "id": "ZJxRHW6uzWyS",
        "colab_type": "code",
        "colab": {}
      },
      "source": [
        "preds2 = m2.predict(X_te * r2)"
      ],
      "execution_count": 0,
      "outputs": []
    },
    {
      "cell_type": "code",
      "metadata": {
        "id": "_HnysySvy1CS",
        "colab_type": "code",
        "colab": {
          "base_uri": "https://localhost:8080/",
          "height": 34
        },
        "outputId": "4bf9ee96-f5e1-4bd2-de3d-29a917fa4ab1"
      },
      "source": [
        "accuracy_score(y_te, preds2)"
      ],
      "execution_count": 68,
      "outputs": [
        {
          "output_type": "execute_result",
          "data": {
            "text/plain": [
              "0.8978850070499765"
            ]
          },
          "metadata": {
            "tags": []
          },
          "execution_count": 68
        }
      ]
    },
    {
      "cell_type": "markdown",
      "metadata": {
        "id": "UqrbgT44B3Qs",
        "colab_type": "text"
      },
      "source": [
        "Similar score, let's see the confusion matrix:"
      ]
    },
    {
      "cell_type": "code",
      "metadata": {
        "id": "sw1_JXbAzl9a",
        "colab_type": "code",
        "colab": {
          "base_uri": "https://localhost:8080/",
          "height": 51
        },
        "outputId": "b1c9eec0-7254-4b38-a70a-d4c09fb832d0"
      },
      "source": [
        "cm(y_te, preds2)"
      ],
      "execution_count": 69,
      "outputs": [
        {
          "output_type": "execute_result",
          "data": {
            "text/plain": [
              "array([[    1,  3180],\n",
              "       [   79, 28655]])"
            ]
          },
          "metadata": {
            "tags": []
          },
          "execution_count": 69
        }
      ]
    },
    {
      "cell_type": "markdown",
      "metadata": {
        "id": "sYdyDurSB9CU",
        "colab_type": "text"
      },
      "source": [
        "Again almost all labelled comments are being lost and classified as clean. Thus, we have to resort to an actual LSTM to do this binary classification."
      ]
    },
    {
      "cell_type": "markdown",
      "metadata": {
        "id": "jQtxnbD90o4n",
        "colab_type": "text"
      },
      "source": [
        "# First stage (LSTM)"
      ]
    },
    {
      "cell_type": "markdown",
      "metadata": {
        "id": "FFLTh2ZeC50c",
        "colab_type": "text"
      },
      "source": [
        "We will use an LSTM to do the clean/not-clean classification. We will read and split the data set again as to include all columns needed by the forthcoming models."
      ]
    },
    {
      "cell_type": "code",
      "metadata": {
        "id": "YiBu5a-6TlXF",
        "colab_type": "code",
        "colab": {}
      },
      "source": [
        "train = pd.read_csv('train.csv')"
      ],
      "execution_count": 0,
      "outputs": []
    },
    {
      "cell_type": "markdown",
      "metadata": {
        "id": "ApWyYV3dDNJ1",
        "colab_type": "text"
      },
      "source": [
        "here we add clean and also not clean for the classifier (we only used one target (clean) in the previous two models)"
      ]
    },
    {
      "cell_type": "code",
      "metadata": {
        "id": "vGHKEXDlVJHu",
        "colab_type": "code",
        "colab": {}
      },
      "source": [
        "label_cols = ['toxic', 'severe_toxic', 'obscene', 'threat', 'insult', 'identity_hate']\n",
        "train['clean'] = 1-train[label_cols].max(axis=1)\n",
        "train.loc[train.clean == 1, 'not_clean'] = int(0)\n",
        "train.loc[train.clean !=1, 'not_clean'] = int(1)\n",
        "train['not_clean'] =  train['not_clean'].astype('int64')"
      ],
      "execution_count": 0,
      "outputs": []
    },
    {
      "cell_type": "markdown",
      "metadata": {
        "id": "PWK1HtYNDg5q",
        "colab_type": "text"
      },
      "source": [
        "We will include all the columns in the split, and take subset when necessary."
      ]
    },
    {
      "cell_type": "code",
      "metadata": {
        "id": "CC7Fz_IUU78G",
        "colab_type": "code",
        "colab": {}
      },
      "source": [
        "X_train,X_test,y_train,y_test = train_test_split(train[\"comment_text\"], train[[\"clean\", \"not_clean\", \"toxic\", \"severe_toxic\", \"obscene\", \"threat\", \"insult\", \"identity_hate\"]],test_size=0.2,random_state=10)"
      ],
      "execution_count": 0,
      "outputs": []
    },
    {
      "cell_type": "markdown",
      "metadata": {
        "id": "YI04MgGyDrRP",
        "colab_type": "text"
      },
      "source": [
        "prepare our dataset for tokenization. We only use clean and not-clean labels from the y_train and y_test."
      ]
    },
    {
      "cell_type": "code",
      "metadata": {
        "id": "4kS7F3Ni0q_J",
        "colab_type": "code",
        "colab": {}
      },
      "source": [
        "list_sentences_train = X_train.fillna(\"_na_\").values\n",
        "list_sentences_test = X_test.fillna(\"_na_\").values\n",
        "list_classes = [\"clean\", \"not_clean\"]\n",
        "y_t = y_train[list_classes].values\n",
        "y_te = y_test[list_classes].values"
      ],
      "execution_count": 0,
      "outputs": []
    },
    {
      "cell_type": "markdown",
      "metadata": {
        "id": "Kb6oVzyjERzj",
        "colab_type": "text"
      },
      "source": [
        "We will use glove to vectorize our comments and produce an embedding matrix."
      ]
    },
    {
      "cell_type": "code",
      "metadata": {
        "id": "asgPUmhOTqFJ",
        "colab_type": "code",
        "colab": {}
      },
      "source": [
        "EMBEDDING_FILE='glove.6B.50d.txt'\n",
        "embed_size = 50 # how big is each word vector\n",
        "max_features = 20000 # how many unique words to use (i.e num rows in embedding vector)\n",
        "maxlen = 100 # "
      ],
      "execution_count": 0,
      "outputs": []
    },
    {
      "cell_type": "code",
      "metadata": {
        "id": "cKuXLaOqTuuA",
        "colab_type": "code",
        "colab": {}
      },
      "source": [
        "tokenizer = Tokenizer(num_words=max_features)\n",
        "tokenizer.fit_on_texts(list(list_sentences_train))\n",
        "list_tokenized_train = tokenizer.texts_to_sequences(list_sentences_train)\n",
        "list_tokenized_test = tokenizer.texts_to_sequences(list_sentences_test)\n",
        "X_t = pad_sequences(list_tokenized_train, maxlen=maxlen)\n",
        "X_te = pad_sequences(list_tokenized_test, maxlen=maxlen)"
      ],
      "execution_count": 0,
      "outputs": []
    },
    {
      "cell_type": "code",
      "metadata": {
        "id": "B2uyFYS5TvXN",
        "colab_type": "code",
        "colab": {}
      },
      "source": [
        "def get_coefs(word,*arr): return word, np.asarray(arr, dtype='float32')\n",
        "embeddings_index = dict(get_coefs(*o.strip().split()) for o in open(EMBEDDING_FILE))"
      ],
      "execution_count": 0,
      "outputs": []
    },
    {
      "cell_type": "code",
      "metadata": {
        "id": "CsyADE_hT5a4",
        "colab_type": "code",
        "colab": {
          "base_uri": "https://localhost:8080/",
          "height": 71
        },
        "outputId": "a006173e-5bd0-4b1c-8b96-e772ac235ba7"
      },
      "source": [
        "all_embs = np.stack(embeddings_index.values())\n",
        "emb_mean,emb_std = all_embs.mean(), all_embs.std()"
      ],
      "execution_count": 14,
      "outputs": [
        {
          "output_type": "stream",
          "text": [
            "/usr/local/lib/python3.6/dist-packages/ipykernel_launcher.py:1: FutureWarning: arrays to stack must be passed as a \"sequence\" type such as list or tuple. Support for non-sequence iterables such as generators is deprecated as of NumPy 1.16 and will raise an error in the future.\n",
            "  \"\"\"Entry point for launching an IPython kernel.\n"
          ],
          "name": "stderr"
        }
      ]
    },
    {
      "cell_type": "code",
      "metadata": {
        "id": "6TccVhBuT57m",
        "colab_type": "code",
        "colab": {}
      },
      "source": [
        "word_index = tokenizer.word_index\n",
        "nb_words = min(max_features, len(word_index))\n",
        "embedding_matrix = np.random.normal(emb_mean, emb_std, (nb_words, embed_size))\n",
        "for word, i in word_index.items():\n",
        "    if i >= max_features: continue\n",
        "    embedding_vector = embeddings_index.get(word)\n",
        "    if embedding_vector is not None: embedding_matrix[i] = embedding_vector"
      ],
      "execution_count": 0,
      "outputs": []
    },
    {
      "cell_type": "markdown",
      "metadata": {
        "id": "NtiCaCvoEf8T",
        "colab_type": "text"
      },
      "source": [
        "Here we use softmax at the last layer since this is an ordinary classification (unlike the ones in part 1)."
      ]
    },
    {
      "cell_type": "code",
      "metadata": {
        "id": "h41nssVjT9eu",
        "colab_type": "code",
        "colab": {
          "base_uri": "https://localhost:8080/",
          "height": 139
        },
        "outputId": "8341d908-bf04-4962-a126-5f31c65f1587"
      },
      "source": [
        "inp = Input(shape=(maxlen,))\n",
        "x = Embedding(max_features, embed_size, weights=[embedding_matrix])(inp)\n",
        "x = Bidirectional(LSTM(50, return_sequences=True, dropout=0.1, recurrent_dropout=0.1))(x)\n",
        "x = GlobalMaxPool1D()(x)\n",
        "x = Dense(50, activation=\"relu\")(x)\n",
        "x = Dropout(0.1)(x)\n",
        "x = Dense(2, activation=\"softmax\")(x)\n",
        "model3 = Model(inputs=inp, outputs=x)\n",
        "model3.compile(loss='categorical_crossentropy', optimizer='adam', metrics=['accuracy'])"
      ],
      "execution_count": 16,
      "outputs": [
        {
          "output_type": "stream",
          "text": [
            "WARNING:tensorflow:From /usr/local/lib/python3.6/dist-packages/tensorflow/python/framework/op_def_library.py:263: colocate_with (from tensorflow.python.framework.ops) is deprecated and will be removed in a future version.\n",
            "Instructions for updating:\n",
            "Colocations handled automatically by placer.\n",
            "WARNING:tensorflow:From /usr/local/lib/python3.6/dist-packages/keras/backend/tensorflow_backend.py:3445: calling dropout (from tensorflow.python.ops.nn_ops) with keep_prob is deprecated and will be removed in a future version.\n",
            "Instructions for updating:\n",
            "Please use `rate` instead of `keep_prob`. Rate should be set to `rate = 1 - keep_prob`.\n"
          ],
          "name": "stdout"
        }
      ]
    },
    {
      "cell_type": "code",
      "metadata": {
        "id": "0joe3bS2UDCu",
        "colab_type": "code",
        "colab": {
          "base_uri": "https://localhost:8080/",
          "height": 224
        },
        "outputId": "e97a691b-eeff-4c30-99b7-0aaeabd4115b"
      },
      "source": [
        "history3 = model3.fit(X_t, y_t, batch_size=40, epochs=2, validation_split=0.2)"
      ],
      "execution_count": 17,
      "outputs": [
        {
          "output_type": "stream",
          "text": [
            "WARNING:tensorflow:From /usr/local/lib/python3.6/dist-packages/tensorflow/python/ops/math_ops.py:3066: to_int32 (from tensorflow.python.ops.math_ops) is deprecated and will be removed in a future version.\n",
            "Instructions for updating:\n",
            "Use tf.cast instead.\n",
            "WARNING:tensorflow:From /usr/local/lib/python3.6/dist-packages/tensorflow/python/ops/math_grad.py:102: div (from tensorflow.python.ops.math_ops) is deprecated and will be removed in a future version.\n",
            "Instructions for updating:\n",
            "Deprecated in favor of operator or tf.math.divide.\n",
            "Train on 102124 samples, validate on 25532 samples\n",
            "Epoch 1/2\n",
            "102124/102124 [==============================] - 1365s 13ms/step - loss: 0.1315 - acc: 0.9523 - val_loss: 0.1046 - val_acc: 0.9612\n",
            "Epoch 2/2\n",
            "102124/102124 [==============================] - 1572s 15ms/step - loss: 0.0928 - acc: 0.9654 - val_loss: 0.1066 - val_acc: 0.9632\n"
          ],
          "name": "stdout"
        }
      ]
    },
    {
      "cell_type": "code",
      "metadata": {
        "id": "STws0_sjWKSy",
        "colab_type": "code",
        "colab": {
          "base_uri": "https://localhost:8080/",
          "height": 590
        },
        "outputId": "ca55d9ee-65dd-4fa1-f578-2b694848d2dc"
      },
      "source": [
        "def show_graphs(history):\n",
        "  # list all data in history\n",
        "  print(history.history.keys())\n",
        "  # summarize history for accuracy\n",
        "  plt.plot(history.history['acc'])\n",
        "  plt.plot(history.history['val_acc'])\n",
        "  plt.title('model accuracy')\n",
        "  plt.ylabel('accuracy')\n",
        "  plt.xlabel('epoch')\n",
        "  plt.legend(['train', 'val'], loc='upper left')\n",
        "  plt.show()\n",
        "  # summarize history for loss\n",
        "  plt.plot(history.history['loss'])\n",
        "  plt.plot(history.history['val_loss'])\n",
        "  plt.title('model loss')\n",
        "  plt.ylabel('loss')\n",
        "  plt.xlabel('epoch')\n",
        "  plt.legend(['train', 'val'], loc='upper left')\n",
        "  plt.show()\n",
        "\n",
        "show_graphs(history3)"
      ],
      "execution_count": 18,
      "outputs": [
        {
          "output_type": "stream",
          "text": [
            "dict_keys(['val_loss', 'val_acc', 'loss', 'acc'])\n"
          ],
          "name": "stdout"
        },
        {
          "output_type": "display_data",
          "data": {
            "image/png": "[encoded data removed]",
            "text/plain": [
              "<Figure size 432x288 with 1 Axes>"
            ]
          },
          "metadata": {
            "tags": []
          }
        },
        {
          "output_type": "display_data",
          "data": {
            "image/png": "[encoded data removed]",
            "text/plain": [
              "<Figure size 432x288 with 1 Axes>"
            ]
          },
          "metadata": {
            "tags": []
          }
        }
      ]
    },
    {
      "cell_type": "markdown",
      "metadata": {
        "id": "d7SVvLWyFjSR",
        "colab_type": "text"
      },
      "source": [
        "decent accuracy, but we shall not fall for that, we will also check the confusion matrix. But first let's see how the test set performs:"
      ]
    },
    {
      "cell_type": "code",
      "metadata": {
        "id": "iL-iI99WUGSO",
        "colab_type": "code",
        "colab": {}
      },
      "source": [
        "preds=model3.predict(X_te)"
      ],
      "execution_count": 0,
      "outputs": []
    },
    {
      "cell_type": "code",
      "metadata": {
        "id": "IqHmxRs2gYOT",
        "colab_type": "code",
        "colab": {
          "base_uri": "https://localhost:8080/",
          "height": 136
        },
        "outputId": "33c4f791-e351-41da-810a-2a150f647f9f"
      },
      "source": [
        "preds"
      ],
      "execution_count": 20,
      "outputs": [
        {
          "output_type": "execute_result",
          "data": {
            "text/plain": [
              "array([[9.9506122e-01, 4.9387706e-03],\n",
              "       [9.9987948e-01, 1.2053741e-04],\n",
              "       [9.9982482e-01, 1.7519646e-04],\n",
              "       ...,\n",
              "       [9.9775463e-01, 2.2454243e-03],\n",
              "       [9.9587727e-01, 4.1227508e-03],\n",
              "       [6.3568127e-01, 3.6431870e-01]], dtype=float32)"
            ]
          },
          "metadata": {
            "tags": []
          },
          "execution_count": 20
        }
      ]
    },
    {
      "cell_type": "markdown",
      "metadata": {
        "id": "xxcMjGedFw4y",
        "colab_type": "text"
      },
      "source": [
        "We vectorize (one-hot) the predictions:"
      ]
    },
    {
      "cell_type": "code",
      "metadata": {
        "id": "RxxFdkC3hcug",
        "colab_type": "code",
        "colab": {}
      },
      "source": [
        "preds_new = np.zeros(shape=(preds.shape[0], preds.shape[1]))\n",
        "for i in np.arange(preds.shape[0]):\n",
        "  preds_new[i] = [1,0] if preds[i][0] > preds[i][1] else [0,1]"
      ],
      "execution_count": 0,
      "outputs": []
    },
    {
      "cell_type": "code",
      "metadata": {
        "id": "wFmV3ieHh0AQ",
        "colab_type": "code",
        "colab": {}
      },
      "source": [
        "preds_new = preds_new.astype(int)"
      ],
      "execution_count": 0,
      "outputs": []
    },
    {
      "cell_type": "markdown",
      "metadata": {
        "id": "tMs_wXDtF_eR",
        "colab_type": "text"
      },
      "source": [
        "Here we can use accuracy_score (unlike in part 1)"
      ]
    },
    {
      "cell_type": "code",
      "metadata": {
        "id": "QMCiMyR3WQ3X",
        "colab_type": "code",
        "colab": {
          "base_uri": "https://localhost:8080/",
          "height": 34
        },
        "outputId": "3bdc6349-e7f7-49e2-80dc-2c55615664fb"
      },
      "source": [
        "accuracy_score(y_te, preds_new)"
      ],
      "execution_count": 24,
      "outputs": [
        {
          "output_type": "execute_result",
          "data": {
            "text/plain": [
              "0.9648127839573868"
            ]
          },
          "metadata": {
            "tags": []
          },
          "execution_count": 24
        }
      ]
    },
    {
      "cell_type": "markdown",
      "metadata": {
        "id": "1--VwP_5GGD-",
        "colab_type": "text"
      },
      "source": [
        "Good, now for the confusion matrix:"
      ]
    },
    {
      "cell_type": "code",
      "metadata": {
        "id": "cGSO-W1RUMlG",
        "colab_type": "code",
        "colab": {
          "base_uri": "https://localhost:8080/",
          "height": 51
        },
        "outputId": "341f07e5-db0d-4004-bf91-d31afe78b204"
      },
      "source": [
        "cm(np.argmax(y_te, axis=1), np.argmax(preds, axis=1))"
      ],
      "execution_count": 25,
      "outputs": [
        {
          "output_type": "execute_result",
          "data": {
            "text/plain": [
              "array([[28466,   268],\n",
              "       [  855,  2326]])"
            ]
          },
          "metadata": {
            "tags": []
          },
          "execution_count": 25
        }
      ]
    },
    {
      "cell_type": "markdown",
      "metadata": {
        "id": "6spN5ir7GKm-",
        "colab_type": "text"
      },
      "source": [
        "**(note that this matrix is inverted compared to the previous two)**\n",
        "\n",
        "We can see that the number of false positives (bottom left) is significantly lower than the previous two models. We shall go ahead and use this model,  but we have to keep mind that we are still losing about 25% of the labelled comments, but it' the best we can do for now. \n",
        "\n",
        "\n"
      ]
    },
    {
      "cell_type": "markdown",
      "metadata": {
        "id": "d-N53BmXHg8j",
        "colab_type": "text"
      },
      "source": [
        "Using the hamming loss for calculating the accuracy is not needed here, but we shall do it anyway."
      ]
    },
    {
      "cell_type": "code",
      "metadata": {
        "id": "IUbUGhDaVOqe",
        "colab_type": "code",
        "colab": {}
      },
      "source": [
        "from sklearn.metrics import hamming_loss"
      ],
      "execution_count": 0,
      "outputs": []
    },
    {
      "cell_type": "code",
      "metadata": {
        "id": "InB37hn_VPPO",
        "colab_type": "code",
        "colab": {
          "base_uri": "https://localhost:8080/",
          "height": 34
        },
        "outputId": "4bf3deba-435a-4cd8-cd99-035fdfa83c42"
      },
      "source": [
        "1 - hamming_loss(y_te, preds_new)"
      ],
      "execution_count": 27,
      "outputs": [
        {
          "output_type": "execute_result",
          "data": {
            "text/plain": [
              "0.9648127839573868"
            ]
          },
          "metadata": {
            "tags": []
          },
          "execution_count": 27
        }
      ]
    },
    {
      "cell_type": "markdown",
      "metadata": {
        "id": "m83NmH7oHvwn",
        "colab_type": "text"
      },
      "source": [
        "same as accuracy_score() (as expected)"
      ]
    },
    {
      "cell_type": "markdown",
      "metadata": {
        "id": "4FL3a1uBp3LT",
        "colab_type": "text"
      },
      "source": [
        "# Second Stage"
      ]
    },
    {
      "cell_type": "markdown",
      "metadata": {
        "id": "b7AJqaAMH2pZ",
        "colab_type": "text"
      },
      "source": [
        "In this stage we filter in only the comments we have predicted to be not clean, and perform regression on those comments to fit them to the remaining labels. We do this so the model cannot get high accuracy by just fitting all (or most ) labels to 0, since most of the comments do not belong to any label (and hence are clean)."
      ]
    },
    {
      "cell_type": "markdown",
      "metadata": {
        "id": "unOp1FBmIQfE",
        "colab_type": "text"
      },
      "source": [
        "predict which comments are clean/not clean in the training set:"
      ]
    },
    {
      "cell_type": "code",
      "metadata": {
        "id": "_fFbXzynquew",
        "colab_type": "code",
        "colab": {}
      },
      "source": [
        "filtered = model3.predict(X_t)"
      ],
      "execution_count": 0,
      "outputs": []
    },
    {
      "cell_type": "markdown",
      "metadata": {
        "id": "DSUIypnSIbil",
        "colab_type": "text"
      },
      "source": [
        "vectorize (one-hot) the predictions:"
      ]
    },
    {
      "cell_type": "code",
      "metadata": {
        "id": "8dMaIsipteu2",
        "colab_type": "code",
        "colab": {}
      },
      "source": [
        "filtered_vectorized = np.zeros(shape=(filtered.shape[0], filtered.shape[1]))\n",
        "for i in np.arange(filtered.shape[0]):\n",
        "  filtered_vectorized[i] = [1,0] if filtered[i][0] > filtered[i][1] else [0,1]"
      ],
      "execution_count": 0,
      "outputs": []
    },
    {
      "cell_type": "code",
      "metadata": {
        "id": "rhjtOhvauWj7",
        "colab_type": "code",
        "colab": {
          "base_uri": "https://localhost:8080/",
          "height": 34
        },
        "outputId": "57d774e5-873e-418b-a9dc-e6de73497e0b"
      },
      "source": [
        "filtered_vectorized = filtered_vectorized.astype(int)\n",
        "filtered_vectorized.shape"
      ],
      "execution_count": 30,
      "outputs": [
        {
          "output_type": "execute_result",
          "data": {
            "text/plain": [
              "(127656, 2)"
            ]
          },
          "metadata": {
            "tags": []
          },
          "execution_count": 30
        }
      ]
    },
    {
      "cell_type": "markdown",
      "metadata": {
        "id": "G0IvtFWbItUH",
        "colab_type": "text"
      },
      "source": [
        "We create copies of the dataset (train and test), and later filter these copies of all the predicted-clean comments:"
      ]
    },
    {
      "cell_type": "code",
      "metadata": {
        "id": "uQHyC9xauvJn",
        "colab_type": "code",
        "colab": {}
      },
      "source": [
        "y_train2 = pd.DataFrame()\n",
        "y_train2 = y_train.copy()\n",
        "#add the predcitions as a column\n",
        "y_train2['preds'] = filtered_vectorized[:,0]\n",
        "X_train2 = pd.DataFrame()\n",
        "X_train2 = X_train.copy()\n",
        "X_train2 = X_train.to_frame()"
      ],
      "execution_count": 0,
      "outputs": []
    },
    {
      "cell_type": "markdown",
      "metadata": {
        "id": "ufVrE0KKJOCP",
        "colab_type": "text"
      },
      "source": [
        "We perform an inner join on the ids of the prediction made in the last stage and the original comments, so that all the comments and labels are correctly matched for training We do this for the test and train dataset we then check to make sure the inner join was correct"
      ]
    },
    {
      "cell_type": "code",
      "metadata": {
        "id": "yqnxih9XyVrc",
        "colab_type": "code",
        "colab": {}
      },
      "source": [
        "data_t2=pd.concat([y_train2.set_index(y_train2.index),\n",
        "                  X_train2.set_index(X_train2.index)], axis=1)"
      ],
      "execution_count": 0,
      "outputs": []
    },
    {
      "cell_type": "code",
      "metadata": {
        "id": "kxZbfzeCzLHA",
        "colab_type": "code",
        "colab": {
          "base_uri": "https://localhost:8080/",
          "height": 131
        },
        "outputId": "b402b2a2-2748-459a-f5f6-13f282ab308f"
      },
      "source": [
        "train.loc[train.index==129567]"
      ],
      "execution_count": 34,
      "outputs": [
        {
          "output_type": "execute_result",
          "data": {
            "text/html": [
              "<div>\n",
              "<style scoped>\n",
              "    .dataframe tbody tr th:only-of-type {\n",
              "        vertical-align: middle;\n",
              "    }\n",
              "\n",
              "    .dataframe tbody tr th {\n",
              "        vertical-align: top;\n",
              "    }\n",
              "\n",
              "    .dataframe thead th {\n",
              "        text-align: right;\n",
              "    }\n",
              "</style>\n",
              "<table border=\"1\" class=\"dataframe\">\n",
              "  <thead>\n",
              "    <tr style=\"text-align: right;\">\n",
              "      <th></th>\n",
              "      <th>id</th>\n",
              "      <th>comment_text</th>\n",
              "      <th>toxic</th>\n",
              "      <th>severe_toxic</th>\n",
              "      <th>obscene</th>\n",
              "      <th>threat</th>\n",
              "      <th>insult</th>\n",
              "      <th>identity_hate</th>\n",
              "      <th>clean</th>\n",
              "      <th>not_clean</th>\n",
              "    </tr>\n",
              "  </thead>\n",
              "  <tbody>\n",
              "    <tr>\n",
              "      <th>129567</th>\n",
              "      <td>b51ca8f632cf2acc</td>\n",
              "      <td>Wikipedia has articles on the Bible, the Torah...</td>\n",
              "      <td>0</td>\n",
              "      <td>0</td>\n",
              "      <td>0</td>\n",
              "      <td>0</td>\n",
              "      <td>0</td>\n",
              "      <td>0</td>\n",
              "      <td>1</td>\n",
              "      <td>0</td>\n",
              "    </tr>\n",
              "  </tbody>\n",
              "</table>\n",
              "</div>"
            ],
            "text/plain": [
              "                      id  ... not_clean\n",
              "129567  b51ca8f632cf2acc  ...         0\n",
              "\n",
              "[1 rows x 10 columns]"
            ]
          },
          "metadata": {
            "tags": []
          },
          "execution_count": 34
        }
      ]
    },
    {
      "cell_type": "code",
      "metadata": {
        "id": "lDUeNkfIzOgH",
        "colab_type": "code",
        "colab": {
          "base_uri": "https://localhost:8080/",
          "height": 97
        },
        "outputId": "2167ae18-c1b2-4b17-b495-ae9013691ba3"
      },
      "source": [
        "data_t2.loc[data_t2.index==129567]"
      ],
      "execution_count": 35,
      "outputs": [
        {
          "output_type": "execute_result",
          "data": {
            "text/html": [
              "<div>\n",
              "<style scoped>\n",
              "    .dataframe tbody tr th:only-of-type {\n",
              "        vertical-align: middle;\n",
              "    }\n",
              "\n",
              "    .dataframe tbody tr th {\n",
              "        vertical-align: top;\n",
              "    }\n",
              "\n",
              "    .dataframe thead th {\n",
              "        text-align: right;\n",
              "    }\n",
              "</style>\n",
              "<table border=\"1\" class=\"dataframe\">\n",
              "  <thead>\n",
              "    <tr style=\"text-align: right;\">\n",
              "      <th></th>\n",
              "      <th>clean</th>\n",
              "      <th>not_clean</th>\n",
              "      <th>toxic</th>\n",
              "      <th>severe_toxic</th>\n",
              "      <th>obscene</th>\n",
              "      <th>threat</th>\n",
              "      <th>insult</th>\n",
              "      <th>identity_hate</th>\n",
              "      <th>preds</th>\n",
              "      <th>comment_text</th>\n",
              "    </tr>\n",
              "  </thead>\n",
              "  <tbody>\n",
              "    <tr>\n",
              "      <th>129567</th>\n",
              "      <td>1</td>\n",
              "      <td>0</td>\n",
              "      <td>0</td>\n",
              "      <td>0</td>\n",
              "      <td>0</td>\n",
              "      <td>0</td>\n",
              "      <td>0</td>\n",
              "      <td>0</td>\n",
              "      <td>1</td>\n",
              "      <td>Wikipedia has articles on the Bible, the Torah...</td>\n",
              "    </tr>\n",
              "  </tbody>\n",
              "</table>\n",
              "</div>"
            ],
            "text/plain": [
              "        clean  ...                                       comment_text\n",
              "129567      1  ...  Wikipedia has articles on the Bible, the Torah...\n",
              "\n",
              "[1 rows x 10 columns]"
            ]
          },
          "metadata": {
            "tags": []
          },
          "execution_count": 35
        }
      ]
    },
    {
      "cell_type": "code",
      "metadata": {
        "id": "IPgjahAnzWpR",
        "colab_type": "code",
        "colab": {
          "base_uri": "https://localhost:8080/",
          "height": 272
        },
        "outputId": "02e1c717-b695-49de-9edb-e623f3240e16"
      },
      "source": [
        "data_t2.info()"
      ],
      "execution_count": 36,
      "outputs": [
        {
          "output_type": "stream",
          "text": [
            "<class 'pandas.core.frame.DataFrame'>\n",
            "Int64Index: 127656 entries, 55539 to 83209\n",
            "Data columns (total 10 columns):\n",
            "clean            127656 non-null int64\n",
            "not_clean        127656 non-null int64\n",
            "toxic            127656 non-null int64\n",
            "severe_toxic     127656 non-null int64\n",
            "obscene          127656 non-null int64\n",
            "threat           127656 non-null int64\n",
            "insult           127656 non-null int64\n",
            "identity_hate    127656 non-null int64\n",
            "preds            127656 non-null int64\n",
            "comment_text     127656 non-null object\n",
            "dtypes: int64(9), object(1)\n",
            "memory usage: 10.7+ MB\n"
          ],
          "name": "stdout"
        }
      ]
    },
    {
      "cell_type": "markdown",
      "metadata": {
        "id": "IC67f6q3JR4_",
        "colab_type": "text"
      },
      "source": [
        "filter the training data of the precited-clean comments:"
      ]
    },
    {
      "cell_type": "code",
      "metadata": {
        "id": "fEMuZ_Jgz7Q1",
        "colab_type": "code",
        "colab": {}
      },
      "source": [
        "data_t2_filtered = data_t2[data_t2.preds != 1]"
      ],
      "execution_count": 0,
      "outputs": []
    },
    {
      "cell_type": "code",
      "metadata": {
        "id": "nszujatV0erY",
        "colab_type": "code",
        "colab": {
          "base_uri": "https://localhost:8080/",
          "height": 272
        },
        "outputId": "8a4e2c8c-1f73-496a-eff4-2d16c3a8f92b"
      },
      "source": [
        "data_t2_filtered.info()"
      ],
      "execution_count": 38,
      "outputs": [
        {
          "output_type": "stream",
          "text": [
            "<class 'pandas.core.frame.DataFrame'>\n",
            "Int64Index: 10889 entries, 159411 to 51595\n",
            "Data columns (total 10 columns):\n",
            "clean            10889 non-null int64\n",
            "not_clean        10889 non-null int64\n",
            "toxic            10889 non-null int64\n",
            "severe_toxic     10889 non-null int64\n",
            "obscene          10889 non-null int64\n",
            "threat           10889 non-null int64\n",
            "insult           10889 non-null int64\n",
            "identity_hate    10889 non-null int64\n",
            "preds            10889 non-null int64\n",
            "comment_text     10889 non-null object\n",
            "dtypes: int64(9), object(1)\n",
            "memory usage: 935.8+ KB\n"
          ],
          "name": "stdout"
        }
      ]
    },
    {
      "cell_type": "markdown",
      "metadata": {
        "id": "Syi6FoJCJXgn",
        "colab_type": "text"
      },
      "source": [
        "Do the same stuff on the test set:"
      ]
    },
    {
      "cell_type": "code",
      "metadata": {
        "id": "4kqdL2eL0lLt",
        "colab_type": "code",
        "colab": {}
      },
      "source": [
        "y_test2 = pd.DataFrame()\n",
        "y_test2 = y_test.copy()\n",
        "y_test2['preds'] = preds_new[:,0]\n",
        "X_test2 = pd.DataFrame()\n",
        "X_test2 = X_test.copy()\n",
        "X_test2 = X_test.to_frame()"
      ],
      "execution_count": 0,
      "outputs": []
    },
    {
      "cell_type": "code",
      "metadata": {
        "id": "yYqLkUNX1AYg",
        "colab_type": "code",
        "colab": {}
      },
      "source": [
        "data_te2=pd.concat([y_test2.set_index(y_test2.index),\n",
        "                  X_test2.set_index(X_test2.index)], axis=1)"
      ],
      "execution_count": 0,
      "outputs": []
    },
    {
      "cell_type": "code",
      "metadata": {
        "id": "o6yvgOxj1LPp",
        "colab_type": "code",
        "colab": {
          "base_uri": "https://localhost:8080/",
          "height": 131
        },
        "outputId": "c046e830-dcea-489f-de42-35e2a5072a40"
      },
      "source": [
        "train.loc[train.index==53051]"
      ],
      "execution_count": 41,
      "outputs": [
        {
          "output_type": "execute_result",
          "data": {
            "text/html": [
              "<div>\n",
              "<style scoped>\n",
              "    .dataframe tbody tr th:only-of-type {\n",
              "        vertical-align: middle;\n",
              "    }\n",
              "\n",
              "    .dataframe tbody tr th {\n",
              "        vertical-align: top;\n",
              "    }\n",
              "\n",
              "    .dataframe thead th {\n",
              "        text-align: right;\n",
              "    }\n",
              "</style>\n",
              "<table border=\"1\" class=\"dataframe\">\n",
              "  <thead>\n",
              "    <tr style=\"text-align: right;\">\n",
              "      <th></th>\n",
              "      <th>id</th>\n",
              "      <th>comment_text</th>\n",
              "      <th>toxic</th>\n",
              "      <th>severe_toxic</th>\n",
              "      <th>obscene</th>\n",
              "      <th>threat</th>\n",
              "      <th>insult</th>\n",
              "      <th>identity_hate</th>\n",
              "      <th>clean</th>\n",
              "      <th>not_clean</th>\n",
              "    </tr>\n",
              "  </thead>\n",
              "  <tbody>\n",
              "    <tr>\n",
              "      <th>53051</th>\n",
              "      <td>8dc6f6c9091fcc8b</td>\n",
              "      <td>He is bad man! He makes much vandalism! 177.15...</td>\n",
              "      <td>0</td>\n",
              "      <td>0</td>\n",
              "      <td>0</td>\n",
              "      <td>0</td>\n",
              "      <td>0</td>\n",
              "      <td>0</td>\n",
              "      <td>1</td>\n",
              "      <td>0</td>\n",
              "    </tr>\n",
              "  </tbody>\n",
              "</table>\n",
              "</div>"
            ],
            "text/plain": [
              "                     id  ... not_clean\n",
              "53051  8dc6f6c9091fcc8b  ...         0\n",
              "\n",
              "[1 rows x 10 columns]"
            ]
          },
          "metadata": {
            "tags": []
          },
          "execution_count": 41
        }
      ]
    },
    {
      "cell_type": "code",
      "metadata": {
        "id": "Sy2DlXqi1Pog",
        "colab_type": "code",
        "colab": {
          "base_uri": "https://localhost:8080/",
          "height": 97
        },
        "outputId": "82d3eb2b-28ed-446a-cbd4-21a59f686516"
      },
      "source": [
        "data_te2.loc[data_te2.index==53051]"
      ],
      "execution_count": 42,
      "outputs": [
        {
          "output_type": "execute_result",
          "data": {
            "text/html": [
              "<div>\n",
              "<style scoped>\n",
              "    .dataframe tbody tr th:only-of-type {\n",
              "        vertical-align: middle;\n",
              "    }\n",
              "\n",
              "    .dataframe tbody tr th {\n",
              "        vertical-align: top;\n",
              "    }\n",
              "\n",
              "    .dataframe thead th {\n",
              "        text-align: right;\n",
              "    }\n",
              "</style>\n",
              "<table border=\"1\" class=\"dataframe\">\n",
              "  <thead>\n",
              "    <tr style=\"text-align: right;\">\n",
              "      <th></th>\n",
              "      <th>clean</th>\n",
              "      <th>not_clean</th>\n",
              "      <th>toxic</th>\n",
              "      <th>severe_toxic</th>\n",
              "      <th>obscene</th>\n",
              "      <th>threat</th>\n",
              "      <th>insult</th>\n",
              "      <th>identity_hate</th>\n",
              "      <th>preds</th>\n",
              "      <th>comment_text</th>\n",
              "    </tr>\n",
              "  </thead>\n",
              "  <tbody>\n",
              "    <tr>\n",
              "      <th>53051</th>\n",
              "      <td>1</td>\n",
              "      <td>0</td>\n",
              "      <td>0</td>\n",
              "      <td>0</td>\n",
              "      <td>0</td>\n",
              "      <td>0</td>\n",
              "      <td>0</td>\n",
              "      <td>0</td>\n",
              "      <td>1</td>\n",
              "      <td>He is bad man! He makes much vandalism! 177.15...</td>\n",
              "    </tr>\n",
              "  </tbody>\n",
              "</table>\n",
              "</div>"
            ],
            "text/plain": [
              "       clean  ...                                       comment_text\n",
              "53051      1  ...  He is bad man! He makes much vandalism! 177.15...\n",
              "\n",
              "[1 rows x 10 columns]"
            ]
          },
          "metadata": {
            "tags": []
          },
          "execution_count": 42
        }
      ]
    },
    {
      "cell_type": "code",
      "metadata": {
        "id": "w3QT_oI71TDw",
        "colab_type": "code",
        "colab": {
          "base_uri": "https://localhost:8080/",
          "height": 272
        },
        "outputId": "1bcd228e-240e-46b1-e62b-0ced6b557cfd"
      },
      "source": [
        "data_te2.info()"
      ],
      "execution_count": 43,
      "outputs": [
        {
          "output_type": "stream",
          "text": [
            "<class 'pandas.core.frame.DataFrame'>\n",
            "Int64Index: 31915 entries, 33683 to 90865\n",
            "Data columns (total 10 columns):\n",
            "clean            31915 non-null int64\n",
            "not_clean        31915 non-null int64\n",
            "toxic            31915 non-null int64\n",
            "severe_toxic     31915 non-null int64\n",
            "obscene          31915 non-null int64\n",
            "threat           31915 non-null int64\n",
            "insult           31915 non-null int64\n",
            "identity_hate    31915 non-null int64\n",
            "preds            31915 non-null int64\n",
            "comment_text     31915 non-null object\n",
            "dtypes: int64(9), object(1)\n",
            "memory usage: 2.7+ MB\n"
          ],
          "name": "stdout"
        }
      ]
    },
    {
      "cell_type": "code",
      "metadata": {
        "id": "UOhXeGzb1ZAJ",
        "colab_type": "code",
        "colab": {}
      },
      "source": [
        "data_te2_filtered = data_te2[data_te2.preds != 1]"
      ],
      "execution_count": 0,
      "outputs": []
    },
    {
      "cell_type": "code",
      "metadata": {
        "id": "7cOu64pb1gDH",
        "colab_type": "code",
        "colab": {
          "base_uri": "https://localhost:8080/",
          "height": 272
        },
        "outputId": "9a8e89a1-39e9-4ffb-b6af-766f98a361ba"
      },
      "source": [
        "data_te2_filtered.info()"
      ],
      "execution_count": 45,
      "outputs": [
        {
          "output_type": "stream",
          "text": [
            "<class 'pandas.core.frame.DataFrame'>\n",
            "Int64Index: 2594 entries, 67121 to 7631\n",
            "Data columns (total 10 columns):\n",
            "clean            2594 non-null int64\n",
            "not_clean        2594 non-null int64\n",
            "toxic            2594 non-null int64\n",
            "severe_toxic     2594 non-null int64\n",
            "obscene          2594 non-null int64\n",
            "threat           2594 non-null int64\n",
            "insult           2594 non-null int64\n",
            "identity_hate    2594 non-null int64\n",
            "preds            2594 non-null int64\n",
            "comment_text     2594 non-null object\n",
            "dtypes: int64(9), object(1)\n",
            "memory usage: 222.9+ KB\n"
          ],
          "name": "stdout"
        }
      ]
    },
    {
      "cell_type": "markdown",
      "metadata": {
        "id": "hHCG7wzaJcyV",
        "colab_type": "text"
      },
      "source": [
        "The glove matrix is used again to vectorize comments and create an embedding matrix. Here we use only the original 6 labels of the dataset."
      ]
    },
    {
      "cell_type": "code",
      "metadata": {
        "id": "pcmB1cwaqB7Z",
        "colab_type": "code",
        "colab": {}
      },
      "source": [
        "list_sentences_train2 = data_t2_filtered['comment_text'].fillna(\"_na_\").values\n",
        "list_sentences_test2 = data_te2_filtered['comment_text'].fillna(\"_na_\").values\n",
        "list_classes = [ \"toxic\", \"severe_toxic\", \"obscene\", \"threat\", \"insult\", \"identity_hate\"]\n",
        "y_t2 = data_t2_filtered[list_classes].values\n",
        "y_te2 = data_te2_filtered[list_classes].values"
      ],
      "execution_count": 0,
      "outputs": []
    },
    {
      "cell_type": "code",
      "metadata": {
        "id": "c_77Zj6h15Bw",
        "colab_type": "code",
        "colab": {}
      },
      "source": [
        "tokenizer = Tokenizer(num_words=max_features)\n",
        "tokenizer.fit_on_texts(list(list_sentences_train2))\n",
        "list_tokenized_train2 = tokenizer.texts_to_sequences(list_sentences_train2)\n",
        "list_tokenized_test2 = tokenizer.texts_to_sequences(list_sentences_test2)\n",
        "X_t2 = pad_sequences(list_tokenized_train2, maxlen=maxlen)\n",
        "X_te2 = pad_sequences(list_tokenized_test2, maxlen=maxlen)"
      ],
      "execution_count": 0,
      "outputs": []
    },
    {
      "cell_type": "code",
      "metadata": {
        "id": "V61nQhvU1646",
        "colab_type": "code",
        "colab": {}
      },
      "source": [
        "def get_coefs(word,*arr): return word, np.asarray(arr, dtype='float32')\n",
        "embeddings_index = dict(get_coefs(*o.strip().split()) for o in open(EMBEDDING_FILE))"
      ],
      "execution_count": 0,
      "outputs": []
    },
    {
      "cell_type": "code",
      "metadata": {
        "id": "lwSuaAbp19zV",
        "colab_type": "code",
        "colab": {
          "base_uri": "https://localhost:8080/",
          "height": 71
        },
        "outputId": "d94ec29b-3df9-4e33-8a21-6d5fde018fab"
      },
      "source": [
        "all_embs = np.stack(embeddings_index.values())\n",
        "emb_mean,emb_std = all_embs.mean(), all_embs.std()"
      ],
      "execution_count": 49,
      "outputs": [
        {
          "output_type": "stream",
          "text": [
            "/usr/local/lib/python3.6/dist-packages/ipykernel_launcher.py:1: FutureWarning: arrays to stack must be passed as a \"sequence\" type such as list or tuple. Support for non-sequence iterables such as generators is deprecated as of NumPy 1.16 and will raise an error in the future.\n",
            "  \"\"\"Entry point for launching an IPython kernel.\n"
          ],
          "name": "stderr"
        }
      ]
    },
    {
      "cell_type": "code",
      "metadata": {
        "id": "NhVTODkL2AEY",
        "colab_type": "code",
        "colab": {}
      },
      "source": [
        "word_index = tokenizer.word_index\n",
        "nb_words = min(max_features, len(word_index))\n",
        "embedding_matrix = np.random.normal(emb_mean, emb_std, (nb_words, embed_size))\n",
        "for word, i in word_index.items():\n",
        "    if i >= max_features: continue\n",
        "    embedding_vector = embeddings_index.get(word)\n",
        "    if embedding_vector is not None: embedding_matrix[i] = embedding_vector"
      ],
      "execution_count": 0,
      "outputs": []
    },
    {
      "cell_type": "markdown",
      "metadata": {
        "id": "GW7io6F1Jm0P",
        "colab_type": "text"
      },
      "source": [
        "Sigmoid activation is used at the last layer because this is a regression (multi-label classification) problem."
      ]
    },
    {
      "cell_type": "markdown",
      "metadata": {
        "id": "Hxf3zm7XJyM8",
        "colab_type": "text"
      },
      "source": [
        "We settled on a 0.3 dropout before the last layer after trying out 0.1 and 0.2 and observing overfitting and lower accuracies: "
      ]
    },
    {
      "cell_type": "code",
      "metadata": {
        "id": "rRyGsqXV2E8Z",
        "colab_type": "code",
        "colab": {}
      },
      "source": [
        "inp = Input(shape=(maxlen,))\n",
        "x = Embedding(max_features, embed_size, weights=[embedding_matrix])(inp)\n",
        "x = Bidirectional(LSTM(50, return_sequences=True, dropout=0.1, recurrent_dropout=0.1))(x)\n",
        "x = GlobalMaxPool1D()(x)\n",
        "x = Dense(50, activation=\"relu\")(x)\n",
        "x = Dropout(0.3)(x)\n",
        "x = Dense(6, activation=\"sigmoid\")(x)\n",
        "model4 = Model(inputs=inp, outputs=x)\n",
        "model4.compile(loss='binary_crossentropy', optimizer='adam', metrics=['accuracy'])"
      ],
      "execution_count": 0,
      "outputs": []
    },
    {
      "cell_type": "code",
      "metadata": {
        "id": "fHVULp5S2FmB",
        "colab_type": "code",
        "colab": {
          "base_uri": "https://localhost:8080/",
          "height": 224
        },
        "outputId": "ce16c56b-5d82-4db9-a975-4566d960160e"
      },
      "source": [
        "history4 = model4.fit(X_t2, y_t2, batch_size=32, epochs=5, validation_split=0.2)"
      ],
      "execution_count": 52,
      "outputs": [
        {
          "output_type": "stream",
          "text": [
            "Train on 8711 samples, validate on 2178 samples\n",
            "Epoch 1/5\n",
            "8711/8711 [==============================] - 173s 20ms/step - loss: 0.4411 - acc: 0.7949 - val_loss: 0.3700 - val_acc: 0.8382\n",
            "Epoch 2/5\n",
            "8711/8711 [==============================] - 174s 20ms/step - loss: 0.3565 - acc: 0.8483 - val_loss: 0.3411 - val_acc: 0.8511\n",
            "Epoch 3/5\n",
            "8711/8711 [==============================] - 137s 16ms/step - loss: 0.3279 - acc: 0.8603 - val_loss: 0.3217 - val_acc: 0.8599\n",
            "Epoch 4/5\n",
            "8711/8711 [==============================] - 103s 12ms/step - loss: 0.3041 - acc: 0.8696 - val_loss: 0.3043 - val_acc: 0.8646\n",
            "Epoch 5/5\n",
            "8711/8711 [==============================] - 104s 12ms/step - loss: 0.2842 - acc: 0.8795 - val_loss: 0.2988 - val_acc: 0.8664\n"
          ],
          "name": "stdout"
        }
      ]
    },
    {
      "cell_type": "code",
      "metadata": {
        "id": "MuIJvopf4bbZ",
        "colab_type": "code",
        "colab": {
          "base_uri": "https://localhost:8080/",
          "height": 590
        },
        "outputId": "fe7aed33-8112-4f05-9578-e52fedb5d8fb"
      },
      "source": [
        "show_graphs(history4)"
      ],
      "execution_count": 53,
      "outputs": [
        {
          "output_type": "stream",
          "text": [
            "dict_keys(['val_loss', 'val_acc', 'loss', 'acc'])\n"
          ],
          "name": "stdout"
        },
        {
          "output_type": "display_data",
          "data": {
            "image/png": "[encoded data removed]",
            "text/plain": [
              "<Figure size 432x288 with 1 Axes>"
            ]
          },
          "metadata": {
            "tags": []
          }
        },
        {
          "output_type": "display_data",
          "data": {
            "image/png": "[encoded data removed]",
            "text/plain": [
              "<Figure size 432x288 with 1 Axes>"
            ]
          },
          "metadata": {
            "tags": []
          }
        }
      ]
    },
    {
      "cell_type": "markdown",
      "metadata": {
        "id": "rTVQM0TUKPnj",
        "colab_type": "text"
      },
      "source": [
        "The accuracy is not bad but it's lower than the ones in part 1 due to a couple of reasons:\n",
        "\n",
        "\n",
        "*   In part 1, the competency of the models for predecting the exact labels of the labelled comments is hidden behind the sheer size of the clean comments.\n",
        "*   The number of labelled comments is really not big enough.\n",
        "*   The labelling of these not-clean comments might not be very consistent since the dataset was crowd-sourced. (relevant discussion here: https://www.kaggle.com/c/jigsaw-toxic-comment-classification-challenge/discussion/46131)\n",
        "\n"
      ]
    },
    {
      "cell_type": "markdown",
      "metadata": {
        "id": "RqDBLu1ZLuwV",
        "colab_type": "text"
      },
      "source": [
        "Anyway, let''s see the test set performance:"
      ]
    },
    {
      "cell_type": "code",
      "metadata": {
        "id": "MleWf_nD4ctn",
        "colab_type": "code",
        "colab": {}
      },
      "source": [
        "dirty_preds = (model4.predict(X_te2) > 0.5).astype(int)"
      ],
      "execution_count": 0,
      "outputs": []
    },
    {
      "cell_type": "code",
      "metadata": {
        "id": "e1ScB2nt8Cr5",
        "colab_type": "code",
        "colab": {
          "base_uri": "https://localhost:8080/",
          "height": 136
        },
        "outputId": "894d2c8b-3667-4b06-9947-0b648717da7d"
      },
      "source": [
        "dirty_preds"
      ],
      "execution_count": 55,
      "outputs": [
        {
          "output_type": "execute_result",
          "data": {
            "text/plain": [
              "array([[1, 0, 0, 0, 0, 0],\n",
              "       [1, 0, 0, 0, 1, 0],\n",
              "       [1, 0, 0, 0, 0, 0],\n",
              "       ...,\n",
              "       [1, 1, 1, 0, 1, 0],\n",
              "       [1, 1, 1, 0, 1, 0],\n",
              "       [1, 0, 0, 0, 0, 0]])"
            ]
          },
          "metadata": {
            "tags": []
          },
          "execution_count": 55
        }
      ]
    },
    {
      "cell_type": "code",
      "metadata": {
        "id": "zezVnyjD7_Sc",
        "colab_type": "code",
        "colab": {
          "base_uri": "https://localhost:8080/",
          "height": 136
        },
        "outputId": "72d09e4f-8a3b-45e2-a2c2-bd29525fa0aa"
      },
      "source": [
        "y_te2"
      ],
      "execution_count": 56,
      "outputs": [
        {
          "output_type": "execute_result",
          "data": {
            "text/plain": [
              "array([[1, 0, 0, 0, 0, 0],\n",
              "       [1, 0, 0, 0, 1, 0],\n",
              "       [1, 0, 0, 0, 1, 0],\n",
              "       ...,\n",
              "       [1, 1, 1, 0, 1, 0],\n",
              "       [1, 1, 1, 1, 1, 0],\n",
              "       [1, 0, 0, 0, 1, 0]], dtype=int64)"
            ]
          },
          "metadata": {
            "tags": []
          },
          "execution_count": 56
        }
      ]
    },
    {
      "cell_type": "markdown",
      "metadata": {
        "id": "7FBxzD69L6Hj",
        "colab_type": "text"
      },
      "source": [
        "We use hamming loss instead of accuracy_score of scikit learn beacuse it is not suitable (as explained in part 1)."
      ]
    },
    {
      "cell_type": "code",
      "metadata": {
        "id": "OVlypbyX-dzD",
        "colab_type": "code",
        "colab": {
          "base_uri": "https://localhost:8080/",
          "height": 34
        },
        "outputId": "608b1459-5e10-4a25-ba0b-a7e8389995be"
      },
      "source": [
        "1 - hamming_loss(y_te2, dirty_preds)"
      ],
      "execution_count": 57,
      "outputs": [
        {
          "output_type": "execute_result",
          "data": {
            "text/plain": [
              "0.8664225134926754"
            ]
          },
          "metadata": {
            "tags": []
          },
          "execution_count": 57
        }
      ]
    },
    {
      "cell_type": "markdown",
      "metadata": {
        "id": "q_2bXVyRMNCW",
        "colab_type": "text"
      },
      "source": [
        "The test accuracy is very similar to the validation accuracy."
      ]
    },
    {
      "cell_type": "code",
      "metadata": {
        "colab_type": "code",
        "outputId": "367847fd-6c4b-49f2-facc-e851dd2d948d",
        "id": "ucoIRCLr_U1o",
        "colab": {
          "base_uri": "https://localhost:8080/",
          "height": 51
        }
      },
      "source": [
        "score, acc = model4.evaluate(X_te2, y_te2,\n",
        "                            batch_size=32)\n",
        "print('Test accuracy:', acc)"
      ],
      "execution_count": 58,
      "outputs": [
        {
          "output_type": "stream",
          "text": [
            "2594/2594 [==============================] - 11s 4ms/step\n",
            "Test accuracy: 0.8664225034283599\n"
          ],
          "name": "stdout"
        }
      ]
    },
    {
      "cell_type": "markdown",
      "metadata": {
        "id": "dorh0jQdMGcW",
        "colab_type": "text"
      },
      "source": [
        "Keras's evaluation is almost the same as our hamming loss evaluation."
      ]
    },
    {
      "cell_type": "markdown",
      "metadata": {
        "id": "b7SERLl4AfJy",
        "colab_type": "text"
      },
      "source": [
        "# Combining the Predictions"
      ]
    },
    {
      "cell_type": "markdown",
      "metadata": {
        "id": "qrSIIgIpMtyx",
        "colab_type": "text"
      },
      "source": [
        "Here we combine the test set predictions of the two stages, and see how they performe together.\n",
        "\n",
        "The first stage predictions (classification) of the test set is preds_new, it's also appened to y_test2. The second stage predictions of the test set (only for the predicted-not-clean ones) is dirty_preds."
      ]
    },
    {
      "cell_type": "code",
      "metadata": {
        "id": "efQ5FiqOAeXi",
        "colab_type": "code",
        "colab": {
          "base_uri": "https://localhost:8080/",
          "height": 34
        },
        "outputId": "3f119577-cbb7-4733-ba0c-bc1b8f839335"
      },
      "source": [
        "dirty_preds.shape"
      ],
      "execution_count": 59,
      "outputs": [
        {
          "output_type": "execute_result",
          "data": {
            "text/plain": [
              "(2594, 6)"
            ]
          },
          "metadata": {
            "tags": []
          },
          "execution_count": 59
        }
      ]
    },
    {
      "cell_type": "code",
      "metadata": {
        "id": "xoZh38wyBRyr",
        "colab_type": "code",
        "colab": {
          "base_uri": "https://localhost:8080/",
          "height": 34
        },
        "outputId": "04fd3d14-a6d3-49bd-dee5-72538fdce8bd"
      },
      "source": [
        "count = 0\n",
        "for x in preds_new:\n",
        "  if(x[0]==1):\n",
        "    count+=1\n",
        "count"
      ],
      "execution_count": 60,
      "outputs": [
        {
          "output_type": "execute_result",
          "data": {
            "text/plain": [
              "29321"
            ]
          },
          "metadata": {
            "tags": []
          },
          "execution_count": 60
        }
      ]
    },
    {
      "cell_type": "markdown",
      "metadata": {
        "id": "UcKj_ddnOS1R",
        "colab_type": "text"
      },
      "source": [
        "Let's construct a new data frame to hold the true values of the six original categories:"
      ]
    },
    {
      "cell_type": "code",
      "metadata": {
        "id": "KhJnc6qgDVjM",
        "colab_type": "code",
        "colab": {
          "base_uri": "https://localhost:8080/",
          "height": 204
        },
        "outputId": "57a7f704-7c65-4637-e6ac-7bf6989d0e37"
      },
      "source": [
        "final_true = pd.DataFrame()\n",
        "final_true = y_test2.copy()\n",
        "final_true.drop(['clean', 'not_clean', 'preds'], axis=1, inplace=True)\n",
        "final_true.reset_index(drop=True, inplace=True)\n",
        "final_true.info()"
      ],
      "execution_count": 61,
      "outputs": [
        {
          "output_type": "stream",
          "text": [
            "<class 'pandas.core.frame.DataFrame'>\n",
            "RangeIndex: 31915 entries, 0 to 31914\n",
            "Data columns (total 6 columns):\n",
            "toxic            31915 non-null int64\n",
            "severe_toxic     31915 non-null int64\n",
            "obscene          31915 non-null int64\n",
            "threat           31915 non-null int64\n",
            "insult           31915 non-null int64\n",
            "identity_hate    31915 non-null int64\n",
            "dtypes: int64(6)\n",
            "memory usage: 1.5 MB\n"
          ],
          "name": "stdout"
        }
      ]
    },
    {
      "cell_type": "markdown",
      "metadata": {
        "id": "fAr5YHgNOeM4",
        "colab_type": "text"
      },
      "source": [
        "Note that the numbers add up: 31915 (all test set) = 29321 (predcited clean) + 2594 (predicted not clean then classified for each label) "
      ]
    },
    {
      "cell_type": "markdown",
      "metadata": {
        "id": "22ndfzl0O0pO",
        "colab_type": "text"
      },
      "source": [
        "We also create another frame for holding the combined predictions. For now, it will have the preds column (the predictions of the first stage)."
      ]
    },
    {
      "cell_type": "code",
      "metadata": {
        "id": "siKsm5A-Fkln",
        "colab_type": "code",
        "colab": {
          "base_uri": "https://localhost:8080/",
          "height": 221
        },
        "outputId": "7e331324-9c2f-4cfe-f21d-7b6779fa6f0b"
      },
      "source": [
        "final_preds = pd.DataFrame()\n",
        "final_preds = y_test2.copy()\n",
        "final_preds.drop(['clean', 'not_clean'], axis=1, inplace=True)\n",
        "final_preds.reset_index(drop=True, inplace=True)\n",
        "final_preds.info()"
      ],
      "execution_count": 62,
      "outputs": [
        {
          "output_type": "stream",
          "text": [
            "<class 'pandas.core.frame.DataFrame'>\n",
            "RangeIndex: 31915 entries, 0 to 31914\n",
            "Data columns (total 7 columns):\n",
            "toxic            31915 non-null int64\n",
            "severe_toxic     31915 non-null int64\n",
            "obscene          31915 non-null int64\n",
            "threat           31915 non-null int64\n",
            "insult           31915 non-null int64\n",
            "identity_hate    31915 non-null int64\n",
            "preds            31915 non-null int64\n",
            "dtypes: int64(7)\n",
            "memory usage: 1.7 MB\n"
          ],
          "name": "stdout"
        }
      ]
    },
    {
      "cell_type": "markdown",
      "metadata": {
        "id": "qv0WBSfbPVbG",
        "colab_type": "text"
      },
      "source": [
        "The following loop walks over our final_preds frame row by row. If preds is 1 (i.e. predicted clean), all the labels are set to zero, if preds is 0 (i.e. predicted not-clean) the labels are set according to their coressponding predictions in the dirty_preds array (which, again, holds thhe predicted labels for those comments which were classified as not-clean).  "
      ]
    },
    {
      "cell_type": "code",
      "metadata": {
        "id": "08j-Z-sWK3NV",
        "colab_type": "code",
        "colab": {}
      },
      "source": [
        "i = 0\n",
        "j = 0\n",
        "while i < 31915:\n",
        "  if(final_preds.iloc[i].preds == 1):\n",
        "    final_preds.iloc[i].toxic = 0\n",
        "    final_preds.iloc[i].severe_toxic = 0\n",
        "    final_preds.iloc[i].obscene = 0\n",
        "    final_preds.iloc[i].threat = 0\n",
        "    final_preds.iloc[i].insult = 0\n",
        "    final_preds.iloc[i].identity_hate = 0\n",
        "  else:\n",
        "    final_preds.iloc[i].toxic = dirty_preds[j][0]\n",
        "    final_preds.iloc[i].severe_toxic = dirty_preds[j][1]\n",
        "    final_preds.iloc[i].obscene = dirty_preds[j][2]\n",
        "    final_preds.iloc[i].threat = dirty_preds[j][3]\n",
        "    final_preds.iloc[i].insult = dirty_preds[j][4]\n",
        "    final_preds.iloc[i].identity_hate = dirty_preds[j][5]\n",
        "    j+=1\n",
        "  i+=1"
      ],
      "execution_count": 0,
      "outputs": []
    },
    {
      "cell_type": "markdown",
      "metadata": {
        "id": "pi6dmuMLQ0UQ",
        "colab_type": "text"
      },
      "source": [
        "drop the preds column:"
      ]
    },
    {
      "cell_type": "code",
      "metadata": {
        "id": "uCoizKdBMn5s",
        "colab_type": "code",
        "colab": {}
      },
      "source": [
        "final_preds.drop(['preds'], axis=1, inplace=True)"
      ],
      "execution_count": 0,
      "outputs": []
    },
    {
      "cell_type": "markdown",
      "metadata": {
        "id": "27OR5cruQ3Kt",
        "colab_type": "text"
      },
      "source": [
        "Finally, we calculate the precitions accuracy using hamming_loss: "
      ]
    },
    {
      "cell_type": "code",
      "metadata": {
        "id": "THUNM1zsM_A2",
        "colab_type": "code",
        "colab": {
          "base_uri": "https://localhost:8080/",
          "height": 34
        },
        "outputId": "3747d734-95b3-40dd-c26e-4e43a4be8e83"
      },
      "source": [
        "1 - hamming_loss(final_true.values, final_preds.values)"
      ],
      "execution_count": 65,
      "outputs": [
        {
          "output_type": "execute_result",
          "data": {
            "text/plain": [
              "0.9832680557731475"
            ]
          },
          "metadata": {
            "tags": []
          },
          "execution_count": 65
        }
      ]
    },
    {
      "cell_type": "markdown",
      "metadata": {
        "id": "lLoCWuljRiA1",
        "colab_type": "text"
      },
      "source": [
        "This is about half a percent higher than the highest accuracy obtained in part 1 (using hamming loss)."
      ]
    },
    {
      "cell_type": "markdown",
      "metadata": {
        "id": "rEXHIk1FSJgw",
        "colab_type": "text"
      },
      "source": [
        "# Verdict"
      ]
    },
    {
      "cell_type": "markdown",
      "metadata": {
        "id": "hF9dU9uWSLla",
        "colab_type": "text"
      },
      "source": [
        "Initially, our goal was to see if our approach will perform better than a normal LSTM. And it did (very slightly), but that is not really the important conclusion. Instead, we observed how the skewness (mostly clean comments) of the datasets can make accuracy scores deceptive. Although our stage 2 accuracy (it actually used to be about 70% before fine-tunning) is lower than the LSTMs in part 1, it only had a very minor effect on the overall accuracy of the combined predictions.\n",
        "\n",
        "**Results round-up:**\n",
        "*  Part 1:\n",
        "  *  LSTM multi-label regression: 0.9574\n",
        "  *  LSTM multi-label regression: 0.9598 (1-hamming: 0.9787)\n",
        "* Part 2:\n",
        "  *  First Stage (Nb_SVM clean/not clean classification): 0.8999\n",
        "  *  First Stage (Logistic Regression clean/not clean classification): 0.8979\n",
        "  *  First Stage (LSTM clean/not clean classification): 0.9648 \n",
        "  *  Second Stage: 0.8664\n",
        "  *  Combined: (1-hamming: 0.9833)"
      ]
    }
  ]
}