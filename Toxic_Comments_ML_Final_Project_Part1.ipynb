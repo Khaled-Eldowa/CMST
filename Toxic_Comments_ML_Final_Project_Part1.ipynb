{
  "nbformat": 4,
  "nbformat_minor": 0,
  "metadata": {
    "colab": {
      "name": "Toxic_Comments_ML_Final Project_Part1.ipynb",
      "version": "0.3.2",
      "provenance": [],
      "toc_visible": true,
      "include_colab_link": true
    },
    "kernelspec": {
      "name": "python3",
      "display_name": "Python 3"
    },
    "accelerator": "GPU"
  },
  "cells": [
    {
      "cell_type": "markdown",
      "metadata": {
        "id": "view-in-github",
        "colab_type": "text"
      },
      "source": [
        "<a href=\"https://colab.research.google.com/github/Khaled-Eldowa/CMST/blob/master/Toxic_Comments_ML_Final_Project_Part1.ipynb\" target=\"_parent\"><img src=\"https://colab.research.google.com/assets/colab-badge.svg\" alt=\"Open In Colab\"/></a>"
      ]
    },
    {
      "cell_type": "markdown",
      "metadata": {
        "id": "ndmmo_ZNpKaa",
        "colab_type": "text"
      },
      "source": [
        "# Introduction"
      ]
    },
    {
      "cell_type": "markdown",
      "metadata": {
        "id": "3IGqpN_ZpOTf",
        "colab_type": "text"
      },
      "source": [
        "Project Title: **Toxic Comments Classification**\n",
        "\n",
        "Project Description: https://www.kaggle.com/c/jigsaw-toxic-comment-classification-challenge \n",
        "\n",
        "Dataset Description: https://www.kaggle.com/c/jigsaw-toxic-comment-classification-challenge/data\n",
        "\n",
        "Participants:\n",
        "\n",
        "*   Ahmed Darwish 2175685\n",
        "*   Daniyal Selani 2106268\n",
        "*   Khaled Eldowa 2269256\n",
        "\n",
        "\n"
      ]
    },
    {
      "cell_type": "markdown",
      "metadata": {
        "id": "gkfLoBX6qqnP",
        "colab_type": "text"
      },
      "source": [
        "# Plan"
      ]
    },
    {
      "cell_type": "markdown",
      "metadata": {
        "id": "5rZXzJmQqxho",
        "colab_type": "text"
      },
      "source": [
        "We will solve the problem in two parts; in the first part, we will do multi-label classification with LSTMs with and without the GloVe, and in the second part we will attempt to classify the comments first into clean/not-clean, then use an LSTM to do multi-label classification on the not-clean data, then combine the predcitions of both models and compare it with the ones in part 1. Thus:\n",
        "\n",
        "**Part 1:**\n",
        "1.   Analyzing the data.\n",
        "2.   Ordinary LSTM multi-label classification.\n",
        "3.   LSTM multi-label classification (w/ GloVe).\n",
        "\n",
        "**Part 2:** \n",
        "\n",
        "1.  Clean/not-clean classification:\n",
        "     *   NB-SVM\n",
        "     *   NB-Logistic Regression\n",
        "     *   LSTM\n",
        "\n",
        "2.  Multi-label classification on the non-clean data.\n",
        "\n",
        "3. Combining the predictions.\n",
        "\n",
        "4. Verdict\n",
        "\n",
        "\n",
        "We put every part in a separate notebook since the two parts do not exhange data, so separating them will facilitate and speed up our work."
      ]
    },
    {
      "cell_type": "markdown",
      "metadata": {
        "id": "KKLxbrzqyR3U",
        "colab_type": "text"
      },
      "source": [
        "# Obtaining the Data"
      ]
    },
    {
      "cell_type": "markdown",
      "metadata": {
        "id": "T7w8-lYGwBFN",
        "colab_type": "text"
      },
      "source": [
        "The data is obtained directly from the Kaggel API"
      ]
    },
    {
      "cell_type": "code",
      "metadata": {
        "id": "uyYHwDeqwMB_",
        "colab_type": "code",
        "colab": {}
      },
      "source": [
        "import pandas as pd\n",
        "import numpy as np"
      ],
      "execution_count": 0,
      "outputs": []
    },
    {
      "cell_type": "code",
      "metadata": {
        "id": "dl7jY0LwxV5Y",
        "colab_type": "code",
        "outputId": "8c2a34f8-ec87-4067-ae44-f20b873648c7",
        "colab": {
          "base_uri": "https://localhost:8080/",
          "height": 513
        }
      },
      "source": [
        "!pip install kaggle\n",
        "!mkdir ~/.kaggle\n",
        "!mkdir ./.kaggle\n",
        "import json\n",
        "token = {\"username\":\"cyaniderxx\",\"key\":\"24da407480fcb4682ad5b8f60addbd68\"}\n",
        "with open('/content/.kaggle/kaggle.json', 'w') as file:\n",
        "    json.dump(token, file)\n",
        "!cp /content/.kaggle/kaggle.json ~/.kaggle/kaggle.json\n",
        "!kaggle config set -n path -v{/content}\n",
        "!chmod 600 /root/.kaggle/kaggle.json\n",
        "!kaggle competitions download -c jigsaw-toxic-comment-classification-challenge\n",
        "!kaggle datasets download -d yliu9999/glove6b50d"
      ],
      "execution_count": 2,
      "outputs": [
        {
          "output_type": "stream",
          "text": [
            "Requirement already satisfied: kaggle in /usr/local/lib/python3.6/dist-packages (1.5.4)\n",
            "Requirement already satisfied: urllib3<1.25,>=1.21.1 in /usr/local/lib/python3.6/dist-packages (from kaggle) (1.24.3)\n",
            "Requirement already satisfied: tqdm in /usr/local/lib/python3.6/dist-packages (from kaggle) (4.28.1)\n",
            "Requirement already satisfied: certifi in /usr/local/lib/python3.6/dist-packages (from kaggle) (2019.3.9)\n",
            "Requirement already satisfied: python-dateutil in /usr/local/lib/python3.6/dist-packages (from kaggle) (2.5.3)\n",
            "Requirement already satisfied: requests in /usr/local/lib/python3.6/dist-packages (from kaggle) (2.21.0)\n",
            "Requirement already satisfied: python-slugify in /usr/local/lib/python3.6/dist-packages (from kaggle) (3.0.2)\n",
            "Requirement already satisfied: six>=1.10 in /usr/local/lib/python3.6/dist-packages (from kaggle) (1.12.0)\n",
            "Requirement already satisfied: idna<2.9,>=2.5 in /usr/local/lib/python3.6/dist-packages (from requests->kaggle) (2.8)\n",
            "Requirement already satisfied: chardet<3.1.0,>=3.0.2 in /usr/local/lib/python3.6/dist-packages (from requests->kaggle) (3.0.4)\n",
            "Requirement already satisfied: text-unidecode==1.2 in /usr/local/lib/python3.6/dist-packages (from python-slugify->kaggle) (1.2)\n",
            "Warning: Your Kaggle API key is readable by other users on this system! To fix this, you can run 'chmod 600 /root/.kaggle/kaggle.json'\n",
            "- path is now set to: {/content}\n",
            "Downloading sample_submission.csv.zip to {/content}/competitions/jigsaw-toxic-comment-classification-challenge\n",
            "  0% 0.00/1.39M [00:00<?, ?B/s]\n",
            "100% 1.39M/1.39M [00:00<00:00, 94.2MB/s]\n",
            "Downloading test.csv.zip to {/content}/competitions/jigsaw-toxic-comment-classification-challenge\n",
            " 21% 5.00M/23.4M [00:00<00:01, 16.0MB/s]\n",
            "100% 23.4M/23.4M [00:00<00:00, 52.9MB/s]\n",
            "Downloading train.csv.zip to {/content}/competitions/jigsaw-toxic-comment-classification-challenge\n",
            " 34% 9.00M/26.3M [00:00<00:00, 18.7MB/s]\n",
            "100% 26.3M/26.3M [00:00<00:00, 48.9MB/s]\n",
            "Downloading test_labels.csv.zip to {/content}/competitions/jigsaw-toxic-comment-classification-challenge\n",
            "  0% 0.00/1.46M [00:00<?, ?B/s]\n",
            "100% 1.46M/1.46M [00:00<00:00, 95.9MB/s]\n",
            "Downloading glove6b50d.zip to {/content}/datasets/yliu9999/glove6b50d\n",
            " 96% 65.0M/67.7M [00:02<00:00, 19.5MB/s]\n",
            "100% 67.7M/67.7M [00:02<00:00, 33.5MB/s]\n"
          ],
          "name": "stdout"
        }
      ]
    },
    {
      "cell_type": "code",
      "metadata": {
        "id": "RnS9W2IpxhrQ",
        "colab_type": "code",
        "outputId": "56a010d9-f2c5-45b8-a5ed-376584a77324",
        "colab": {
          "base_uri": "https://localhost:8080/",
          "height": 153
        }
      },
      "source": [
        "!unzip ./{/content}/competitions/jigsaw-toxic-comment-classification-challenge/sample_submission.csv.zip\n",
        "!unzip ./{/content}/competitions/jigsaw-toxic-comment-classification-challenge/test.csv.zip\n",
        "!unzip ./{/content}/competitions/jigsaw-toxic-comment-classification-challenge/test_labels.csv.zip\n",
        "!unzip ./{/content}/competitions/jigsaw-toxic-comment-classification-challenge/train.csv.zip"
      ],
      "execution_count": 3,
      "outputs": [
        {
          "output_type": "stream",
          "text": [
            "Archive:  ./{/content}/competitions/jigsaw-toxic-comment-classification-challenge/sample_submission.csv.zip\n",
            "  inflating: sample_submission.csv   \n",
            "Archive:  ./{/content}/competitions/jigsaw-toxic-comment-classification-challenge/test.csv.zip\n",
            "  inflating: test.csv                \n",
            "Archive:  ./{/content}/competitions/jigsaw-toxic-comment-classification-challenge/test_labels.csv.zip\n",
            "  inflating: test_labels.csv         \n",
            "Archive:  ./{/content}/competitions/jigsaw-toxic-comment-classification-challenge/train.csv.zip\n",
            "  inflating: train.csv               \n"
          ],
          "name": "stdout"
        }
      ]
    },
    {
      "cell_type": "code",
      "metadata": {
        "id": "TST-vlK9yQ9n",
        "colab_type": "code",
        "colab": {}
      },
      "source": [
        "train = pd.read_csv('train.csv')"
      ],
      "execution_count": 0,
      "outputs": []
    },
    {
      "cell_type": "code",
      "metadata": {
        "id": "qgpqXhnoyxdA",
        "colab_type": "code",
        "outputId": "367fe567-e4b4-4e00-cedd-2f270b0fec2c",
        "colab": {
          "base_uri": "https://localhost:8080/",
          "height": 289
        }
      },
      "source": [
        "train.head()"
      ],
      "execution_count": 4,
      "outputs": [
        {
          "output_type": "execute_result",
          "data": {
            "text/html": [
              "<div>\n",
              "<style scoped>\n",
              "    .dataframe tbody tr th:only-of-type {\n",
              "        vertical-align: middle;\n",
              "    }\n",
              "\n",
              "    .dataframe tbody tr th {\n",
              "        vertical-align: top;\n",
              "    }\n",
              "\n",
              "    .dataframe thead th {\n",
              "        text-align: right;\n",
              "    }\n",
              "</style>\n",
              "<table border=\"1\" class=\"dataframe\">\n",
              "  <thead>\n",
              "    <tr style=\"text-align: right;\">\n",
              "      <th></th>\n",
              "      <th>id</th>\n",
              "      <th>comment_text</th>\n",
              "      <th>toxic</th>\n",
              "      <th>severe_toxic</th>\n",
              "      <th>obscene</th>\n",
              "      <th>threat</th>\n",
              "      <th>insult</th>\n",
              "      <th>identity_hate</th>\n",
              "    </tr>\n",
              "  </thead>\n",
              "  <tbody>\n",
              "    <tr>\n",
              "      <th>0</th>\n",
              "      <td>0000997932d777bf</td>\n",
              "      <td>Explanation\\nWhy the edits made under my usern...</td>\n",
              "      <td>0</td>\n",
              "      <td>0</td>\n",
              "      <td>0</td>\n",
              "      <td>0</td>\n",
              "      <td>0</td>\n",
              "      <td>0</td>\n",
              "    </tr>\n",
              "    <tr>\n",
              "      <th>1</th>\n",
              "      <td>000103f0d9cfb60f</td>\n",
              "      <td>D'aww! He matches this background colour I'm s...</td>\n",
              "      <td>0</td>\n",
              "      <td>0</td>\n",
              "      <td>0</td>\n",
              "      <td>0</td>\n",
              "      <td>0</td>\n",
              "      <td>0</td>\n",
              "    </tr>\n",
              "    <tr>\n",
              "      <th>2</th>\n",
              "      <td>000113f07ec002fd</td>\n",
              "      <td>Hey man, I'm really not trying to edit war. It...</td>\n",
              "      <td>0</td>\n",
              "      <td>0</td>\n",
              "      <td>0</td>\n",
              "      <td>0</td>\n",
              "      <td>0</td>\n",
              "      <td>0</td>\n",
              "    </tr>\n",
              "    <tr>\n",
              "      <th>3</th>\n",
              "      <td>0001b41b1c6bb37e</td>\n",
              "      <td>\"\\nMore\\nI can't make any real suggestions on ...</td>\n",
              "      <td>0</td>\n",
              "      <td>0</td>\n",
              "      <td>0</td>\n",
              "      <td>0</td>\n",
              "      <td>0</td>\n",
              "      <td>0</td>\n",
              "    </tr>\n",
              "    <tr>\n",
              "      <th>4</th>\n",
              "      <td>0001d958c54c6e35</td>\n",
              "      <td>You, sir, are my hero. Any chance you remember...</td>\n",
              "      <td>0</td>\n",
              "      <td>0</td>\n",
              "      <td>0</td>\n",
              "      <td>0</td>\n",
              "      <td>0</td>\n",
              "      <td>0</td>\n",
              "    </tr>\n",
              "  </tbody>\n",
              "</table>\n",
              "</div>"
            ],
            "text/plain": [
              "                 id  ... identity_hate\n",
              "0  0000997932d777bf  ...             0\n",
              "1  000103f0d9cfb60f  ...             0\n",
              "2  000113f07ec002fd  ...             0\n",
              "3  0001b41b1c6bb37e  ...             0\n",
              "4  0001d958c54c6e35  ...             0\n",
              "\n",
              "[5 rows x 8 columns]"
            ]
          },
          "metadata": {
            "tags": []
          },
          "execution_count": 4
        }
      ]
    },
    {
      "cell_type": "code",
      "metadata": {
        "id": "yKmEhb-Jy9a4",
        "colab_type": "code",
        "outputId": "33c126d2-7d97-4804-da1a-c9515e0766ac",
        "colab": {
          "base_uri": "https://localhost:8080/",
          "height": 238
        }
      },
      "source": [
        "train.info()"
      ],
      "execution_count": 5,
      "outputs": [
        {
          "output_type": "stream",
          "text": [
            "<class 'pandas.core.frame.DataFrame'>\n",
            "RangeIndex: 159571 entries, 0 to 159570\n",
            "Data columns (total 8 columns):\n",
            "id               159571 non-null object\n",
            "comment_text     159571 non-null object\n",
            "toxic            159571 non-null int64\n",
            "severe_toxic     159571 non-null int64\n",
            "obscene          159571 non-null int64\n",
            "threat           159571 non-null int64\n",
            "insult           159571 non-null int64\n",
            "identity_hate    159571 non-null int64\n",
            "dtypes: int64(6), object(2)\n",
            "memory usage: 9.7+ MB\n"
          ],
          "name": "stdout"
        }
      ]
    },
    {
      "cell_type": "markdown",
      "metadata": {
        "id": "3aXFFpId1Agk",
        "colab_type": "text"
      },
      "source": [
        "# Analyzing the Data"
      ]
    },
    {
      "cell_type": "markdown",
      "metadata": {
        "id": "ANidijP91D0o",
        "colab_type": "text"
      },
      "source": [
        "Checking out the distribution of the lengths of the comments"
      ]
    },
    {
      "cell_type": "code",
      "metadata": {
        "id": "Nx7j0W8SzOso",
        "colab_type": "code",
        "outputId": "7fcd3d38-50f4-4e1e-bf25-1ec3861e2d19",
        "colab": {
          "base_uri": "https://localhost:8080/",
          "height": 286
        }
      },
      "source": [
        "comments_lengths = train.comment_text.str.len()\n",
        "comments_lengths.hist()\n",
        "#https://www.kaggle.com/jhoward/nb-svm-strong-linear-baseline"
      ],
      "execution_count": 6,
      "outputs": [
        {
          "output_type": "execute_result",
          "data": {
            "text/plain": [
              "<matplotlib.axes._subplots.AxesSubplot at 0x7f4dcc5f8908>"
            ]
          },
          "metadata": {
            "tags": []
          },
          "execution_count": 6
        },
        {
          "output_type": "display_data",
          "data": {
            "image/png": "[encoded data removed]",
            "text/plain": [
              "<Figure size 432x288 with 1 Axes>"
            ]
          },
          "metadata": {
            "tags": []
          }
        }
      ]
    },
    {
      "cell_type": "markdown",
      "metadata": {
        "id": "D70ET8Qz1cQq",
        "colab_type": "text"
      },
      "source": [
        "We can see that vast majority of the comments are under 500 charachters, the rest are very variable. "
      ]
    },
    {
      "cell_type": "code",
      "metadata": {
        "id": "hzUNz3ny2AfO",
        "colab_type": "code",
        "colab": {}
      },
      "source": [
        "import matplotlib.pyplot as plt\n",
        "import matplotlib.gridspec as gridspec \n",
        "import seaborn as sns\n",
        "from wordcloud import WordCloud ,STOPWORDS\n",
        "from PIL import Image\n",
        "import matplotlib_venn as venn"
      ],
      "execution_count": 0,
      "outputs": []
    },
    {
      "cell_type": "markdown",
      "metadata": {
        "id": "vKWGHZ8Q2wyt",
        "colab_type": "text"
      },
      "source": [
        "Let's check the distribution of the labels:"
      ]
    },
    {
      "cell_type": "code",
      "metadata": {
        "id": "HBJmtbYc21Px",
        "colab_type": "code",
        "outputId": "0a34151f-104b-4527-8535-788b8c9148c5",
        "colab": {
          "base_uri": "https://localhost:8080/",
          "height": 299
        }
      },
      "source": [
        "#https://www.kaggle.com/jagangupta/stop-the-s-toxic-comments-eda\n",
        "x=train.iloc[:,2:].sum()\n",
        "#plot\n",
        "plt.figure(figsize=(8,4))\n",
        "ax= sns.barplot(x.index, x.values, alpha=0.8)\n",
        "plt.title(\"# per class\")\n",
        "plt.ylabel('# of Occurrences', fontsize=12)\n",
        "plt.xlabel('Type ', fontsize=12)\n",
        "#adding the text labels\n",
        "rects = ax.patches\n",
        "labels = x.values\n",
        "for rect, label in zip(rects, labels):\n",
        "    height = rect.get_height()\n",
        "    ax.text(rect.get_x() + rect.get_width()/2, height + 5, label, ha='center', va='bottom')\n",
        "\n",
        "plt.show()"
      ],
      "execution_count": 8,
      "outputs": [
        {
          "output_type": "display_data",
          "data": {
            "image/png": "[encoded data removed]",
            "text/plain": [
              "<Figure size 576x288 with 1 Axes>"
            ]
          },
          "metadata": {
            "tags": []
          }
        }
      ]
    },
    {
      "cell_type": "markdown",
      "metadata": {
        "id": "pm-cQ3P63fzT",
        "colab_type": "text"
      },
      "source": [
        "These are only the labeled ones, let's modify our dataset to show the ones who are not labelled:"
      ]
    },
    {
      "cell_type": "code",
      "metadata": {
        "id": "1DlxJfA_3p2g",
        "colab_type": "code",
        "outputId": "e910f034-ca56-47c3-becb-f70985fba4c4",
        "colab": {
          "base_uri": "https://localhost:8080/",
          "height": 255
        }
      },
      "source": [
        "#https://www.kaggle.com/jhoward/nb-svm-strong-linear-baseline\n",
        "label_cols = ['toxic', 'severe_toxic', 'obscene', 'threat', 'insult', 'identity_hate']\n",
        "train['none'] = 1-train[label_cols].max(axis=1)\n",
        "train.info()\n",
        "#'none' will be 1 only if all the rest are zeros"
      ],
      "execution_count": 9,
      "outputs": [
        {
          "output_type": "stream",
          "text": [
            "<class 'pandas.core.frame.DataFrame'>\n",
            "RangeIndex: 159571 entries, 0 to 159570\n",
            "Data columns (total 9 columns):\n",
            "id               159571 non-null object\n",
            "comment_text     159571 non-null object\n",
            "toxic            159571 non-null int64\n",
            "severe_toxic     159571 non-null int64\n",
            "obscene          159571 non-null int64\n",
            "threat           159571 non-null int64\n",
            "insult           159571 non-null int64\n",
            "identity_hate    159571 non-null int64\n",
            "none             159571 non-null int64\n",
            "dtypes: int64(7), object(2)\n",
            "memory usage: 11.0+ MB\n"
          ],
          "name": "stdout"
        }
      ]
    },
    {
      "cell_type": "code",
      "metadata": {
        "id": "r0jknZo83z9R",
        "colab_type": "code",
        "outputId": "a2c84c91-eed8-4b71-f63a-46eb97bf35ab",
        "colab": {
          "base_uri": "https://localhost:8080/",
          "height": 289
        }
      },
      "source": [
        "train.head()"
      ],
      "execution_count": 10,
      "outputs": [
        {
          "output_type": "execute_result",
          "data": {
            "text/html": [
              "<div>\n",
              "<style scoped>\n",
              "    .dataframe tbody tr th:only-of-type {\n",
              "        vertical-align: middle;\n",
              "    }\n",
              "\n",
              "    .dataframe tbody tr th {\n",
              "        vertical-align: top;\n",
              "    }\n",
              "\n",
              "    .dataframe thead th {\n",
              "        text-align: right;\n",
              "    }\n",
              "</style>\n",
              "<table border=\"1\" class=\"dataframe\">\n",
              "  <thead>\n",
              "    <tr style=\"text-align: right;\">\n",
              "      <th></th>\n",
              "      <th>id</th>\n",
              "      <th>comment_text</th>\n",
              "      <th>toxic</th>\n",
              "      <th>severe_toxic</th>\n",
              "      <th>obscene</th>\n",
              "      <th>threat</th>\n",
              "      <th>insult</th>\n",
              "      <th>identity_hate</th>\n",
              "      <th>none</th>\n",
              "    </tr>\n",
              "  </thead>\n",
              "  <tbody>\n",
              "    <tr>\n",
              "      <th>0</th>\n",
              "      <td>0000997932d777bf</td>\n",
              "      <td>Explanation\\nWhy the edits made under my usern...</td>\n",
              "      <td>0</td>\n",
              "      <td>0</td>\n",
              "      <td>0</td>\n",
              "      <td>0</td>\n",
              "      <td>0</td>\n",
              "      <td>0</td>\n",
              "      <td>1</td>\n",
              "    </tr>\n",
              "    <tr>\n",
              "      <th>1</th>\n",
              "      <td>000103f0d9cfb60f</td>\n",
              "      <td>D'aww! He matches this background colour I'm s...</td>\n",
              "      <td>0</td>\n",
              "      <td>0</td>\n",
              "      <td>0</td>\n",
              "      <td>0</td>\n",
              "      <td>0</td>\n",
              "      <td>0</td>\n",
              "      <td>1</td>\n",
              "    </tr>\n",
              "    <tr>\n",
              "      <th>2</th>\n",
              "      <td>000113f07ec002fd</td>\n",
              "      <td>Hey man, I'm really not trying to edit war. It...</td>\n",
              "      <td>0</td>\n",
              "      <td>0</td>\n",
              "      <td>0</td>\n",
              "      <td>0</td>\n",
              "      <td>0</td>\n",
              "      <td>0</td>\n",
              "      <td>1</td>\n",
              "    </tr>\n",
              "    <tr>\n",
              "      <th>3</th>\n",
              "      <td>0001b41b1c6bb37e</td>\n",
              "      <td>\"\\nMore\\nI can't make any real suggestions on ...</td>\n",
              "      <td>0</td>\n",
              "      <td>0</td>\n",
              "      <td>0</td>\n",
              "      <td>0</td>\n",
              "      <td>0</td>\n",
              "      <td>0</td>\n",
              "      <td>1</td>\n",
              "    </tr>\n",
              "    <tr>\n",
              "      <th>4</th>\n",
              "      <td>0001d958c54c6e35</td>\n",
              "      <td>You, sir, are my hero. Any chance you remember...</td>\n",
              "      <td>0</td>\n",
              "      <td>0</td>\n",
              "      <td>0</td>\n",
              "      <td>0</td>\n",
              "      <td>0</td>\n",
              "      <td>0</td>\n",
              "      <td>1</td>\n",
              "    </tr>\n",
              "  </tbody>\n",
              "</table>\n",
              "</div>"
            ],
            "text/plain": [
              "                 id  ... none\n",
              "0  0000997932d777bf  ...    1\n",
              "1  000103f0d9cfb60f  ...    1\n",
              "2  000113f07ec002fd  ...    1\n",
              "3  0001b41b1c6bb37e  ...    1\n",
              "4  0001d958c54c6e35  ...    1\n",
              "\n",
              "[5 rows x 9 columns]"
            ]
          },
          "metadata": {
            "tags": []
          },
          "execution_count": 10
        }
      ]
    },
    {
      "cell_type": "markdown",
      "metadata": {
        "id": "m37_Owvl4AYC",
        "colab_type": "text"
      },
      "source": [
        "Now let's plot the label distribution again:"
      ]
    },
    {
      "cell_type": "code",
      "metadata": {
        "id": "FjmtwNQP34v5",
        "colab_type": "code",
        "outputId": "87e16092-4c9d-48f5-e0df-e9b0e1998e07",
        "colab": {
          "base_uri": "https://localhost:8080/",
          "height": 299
        }
      },
      "source": [
        "#https://www.kaggle.com/jagangupta/stop-the-s-toxic-comments-eda\n",
        "x=train.iloc[:,2:].sum()\n",
        "#plot\n",
        "plt.figure(figsize=(8,4))\n",
        "ax= sns.barplot(x.index, x.values, alpha=0.8)\n",
        "plt.title(\"# per class\")\n",
        "plt.ylabel('# of Occurrences', fontsize=12)\n",
        "plt.xlabel('Type ', fontsize=12)\n",
        "#adding the text labels\n",
        "rects = ax.patches\n",
        "labels = x.values\n",
        "for rect, label in zip(rects, labels):\n",
        "    height = rect.get_height()\n",
        "    ax.text(rect.get_x() + rect.get_width()/2, height + 5, label, ha='center', va='bottom')\n",
        "\n",
        "plt.show()"
      ],
      "execution_count": 11,
      "outputs": [
        {
          "output_type": "display_data",
          "data": {
            "image/png": "[encoded data removed]",
            "text/plain": [
              "<Figure size 576x288 with 1 Axes>"
            ]
          },
          "metadata": {
            "tags": []
          }
        }
      ]
    },
    {
      "cell_type": "markdown",
      "metadata": {
        "id": "4OllcJqL4IuL",
        "colab_type": "text"
      },
      "source": [
        "It's very clear that the majority of the comments are clean."
      ]
    },
    {
      "cell_type": "markdown",
      "metadata": {
        "id": "gBoXScPW4OXx",
        "colab_type": "text"
      },
      "source": [
        "It's also worth noting that the lables are not mutually exclusive, some comments have more than one label, let's check that out:"
      ]
    },
    {
      "cell_type": "code",
      "metadata": {
        "id": "YmPkDdCN4Yb5",
        "colab_type": "code",
        "outputId": "cd90de6b-0bf0-43be-8bf0-12698b8e7771",
        "colab": {
          "base_uri": "https://localhost:8080/",
          "height": 298
        }
      },
      "source": [
        "#https://www.kaggle.com/jagangupta/stop-the-s-toxic-comments-eda\n",
        "rowsums=train.iloc[:,2:].sum(axis=1)\n",
        "color = sns.color_palette()\n",
        "\n",
        "\n",
        "x=rowsums.value_counts()\n",
        "\n",
        "#plot\n",
        "plt.figure(figsize=(8,4))\n",
        "ax = sns.barplot(x.index, x.values, alpha=0.8,color=color[2])\n",
        "plt.title(\"Multiple tags per comment\")\n",
        "plt.ylabel('# of Occurrences', fontsize=12)\n",
        "plt.xlabel('# of tags ', fontsize=12)\n",
        "\n",
        "#adding the text labels\n",
        "rects = ax.patches\n",
        "labels = x.values\n",
        "for rect, label in zip(rects, labels):\n",
        "    height = rect.get_height()\n",
        "    ax.text(rect.get_x() + rect.get_width()/2, height + 5, label, ha='center', va='bottom')\n",
        "\n",
        "plt.show()"
      ],
      "execution_count": 12,
      "outputs": [
        {
          "output_type": "display_data",
          "data": {
            "image/png": "[encoded data removed]",
            "text/plain": [
              "<Figure size 576x288 with 1 Axes>"
            ]
          },
          "metadata": {
            "tags": []
          }
        }
      ]
    },
    {
      "cell_type": "markdown",
      "metadata": {
        "id": "4CoB0cZT49vB",
        "colab_type": "text"
      },
      "source": [
        "Most of them have only one label, note that the tags include the 'none' tag"
      ]
    },
    {
      "cell_type": "markdown",
      "metadata": {
        "id": "E5PHetOS5QNh",
        "colab_type": "text"
      },
      "source": [
        "let's do it again only for the not-clean comments:"
      ]
    },
    {
      "cell_type": "code",
      "metadata": {
        "id": "jLGRodJG5aZp",
        "colab_type": "code",
        "outputId": "93ded639-113e-456b-e0d9-9b598436e964",
        "colab": {
          "base_uri": "https://localhost:8080/",
          "height": 298
        }
      },
      "source": [
        "rowsums=train[1-train[label_cols].max(axis=1) == 0].iloc[:,2:].sum(axis=1)\n",
        "color = sns.color_palette()\n",
        "\n",
        "\n",
        "x=rowsums.value_counts()\n",
        "\n",
        "#plot\n",
        "plt.figure(figsize=(8,4))\n",
        "ax = sns.barplot(x.index, x.values, alpha=0.8,color=color[2])\n",
        "plt.title(\"Multiple tags per comment\")\n",
        "plt.ylabel('# of Occurrences', fontsize=12)\n",
        "plt.xlabel('# of tags ', fontsize=12)\n",
        "\n",
        "#adding the text labels\n",
        "rects = ax.patches\n",
        "labels = x.values\n",
        "for rect, label in zip(rects, labels):\n",
        "    height = rect.get_height()\n",
        "    ax.text(rect.get_x() + rect.get_width()/2, height + 5, label, ha='center', va='bottom')\n",
        "\n",
        "plt.show()"
      ],
      "execution_count": 13,
      "outputs": [
        {
          "output_type": "display_data",
          "data": {
            "image/png": "[encoded data removed]",
            "text/plain": [
              "<Figure size 576x288 with 1 Axes>"
            ]
          },
          "metadata": {
            "tags": []
          }
        }
      ]
    },
    {
      "cell_type": "markdown",
      "metadata": {
        "id": "w1y1eLul5zkx",
        "colab_type": "text"
      },
      "source": [
        "We can see that if a comment is labelled (not clean) it's not uncommon at all to have multiple labels. We have to keep that in mind."
      ]
    },
    {
      "cell_type": "markdown",
      "metadata": {
        "id": "7Zhv8I9m5-tJ",
        "colab_type": "text"
      },
      "source": [
        "It would be nice to know which tags are normally associated together. The kernel at https://www.kaggle.com/jagangupta/stop-the-s-toxic-comments-eda has a nice represnation of a confusion-matrix-like comparison between all labels and the toxic label:"
      ]
    },
    {
      "cell_type": "code",
      "metadata": {
        "id": "dTLDYA1E6ygL",
        "colab_type": "code",
        "outputId": "36a322ec-b060-4ca1-e89c-01b4cdf1fa2c",
        "colab": {
          "base_uri": "https://localhost:8080/",
          "height": 124
        }
      },
      "source": [
        "temp_df=train.iloc[:,2:-1]\n",
        "def highlight_min(data, color='yellow'):\n",
        "    '''\n",
        "    highlight the maximum in a Series or DataFrame\n",
        "    '''\n",
        "    attr = 'background-color: {}'.format(color)\n",
        "    if data.ndim == 1:  # Series from .apply(axis=0) or axis=1\n",
        "        is_min = data == data.min()\n",
        "        return [attr if v else '' for v in is_min]\n",
        "    else:  # from .apply(axis=None)\n",
        "        is_max = data == data.min().min()\n",
        "        return pd.DataFrame(np.where(is_min, attr, ''),\n",
        "                            index=data.index, columns=data.columns)\n",
        "#Crosstab\n",
        "# Since technically a crosstab between all 6 classes is impossible to vizualize, lets take a \n",
        "# look at toxic with other tags\n",
        "main_col=\"toxic\"\n",
        "corr_mats=[]\n",
        "for other_col in temp_df.columns[1:]:\n",
        "    confusion_matrix = pd.crosstab(temp_df[main_col], temp_df[other_col])\n",
        "    corr_mats.append(confusion_matrix)\n",
        "out = pd.concat(corr_mats,axis=1,keys=temp_df.columns[1:])\n",
        "\n",
        "#cell highlighting\n",
        "out = out.style.apply(highlight_min,axis=0)\n",
        "out"
      ],
      "execution_count": 14,
      "outputs": [
        {
          "output_type": "execute_result",
          "data": {
            "text/html": [
              "<style  type=\"text/css\" >\n",
              "    #T_5d91b956_8d01_11e9_8f6f_0242ac1c0002row0_col1 {\n",
              "            background-color:  yellow;\n",
              "        }    #T_5d91b956_8d01_11e9_8f6f_0242ac1c0002row0_col3 {\n",
              "            background-color:  yellow;\n",
              "        }    #T_5d91b956_8d01_11e9_8f6f_0242ac1c0002row0_col5 {\n",
              "            background-color:  yellow;\n",
              "        }    #T_5d91b956_8d01_11e9_8f6f_0242ac1c0002row0_col7 {\n",
              "            background-color:  yellow;\n",
              "        }    #T_5d91b956_8d01_11e9_8f6f_0242ac1c0002row0_col9 {\n",
              "            background-color:  yellow;\n",
              "        }    #T_5d91b956_8d01_11e9_8f6f_0242ac1c0002row1_col0 {\n",
              "            background-color:  yellow;\n",
              "        }    #T_5d91b956_8d01_11e9_8f6f_0242ac1c0002row1_col2 {\n",
              "            background-color:  yellow;\n",
              "        }    #T_5d91b956_8d01_11e9_8f6f_0242ac1c0002row1_col4 {\n",
              "            background-color:  yellow;\n",
              "        }    #T_5d91b956_8d01_11e9_8f6f_0242ac1c0002row1_col6 {\n",
              "            background-color:  yellow;\n",
              "        }    #T_5d91b956_8d01_11e9_8f6f_0242ac1c0002row1_col8 {\n",
              "            background-color:  yellow;\n",
              "        }</style><table id=\"T_5d91b956_8d01_11e9_8f6f_0242ac1c0002\" ><thead>    <tr>        <th class=\"blank level0\" ></th>        <th class=\"col_heading level0 col0\" colspan=2>severe_toxic</th>        <th class=\"col_heading level0 col2\" colspan=2>obscene</th>        <th class=\"col_heading level0 col4\" colspan=2>threat</th>        <th class=\"col_heading level0 col6\" colspan=2>insult</th>        <th class=\"col_heading level0 col8\" colspan=2>identity_hate</th>    </tr>    <tr>        <th class=\"index_name level1\" >severe_toxic</th>        <th class=\"col_heading level1 col0\" >0</th>        <th class=\"col_heading level1 col1\" >1</th>        <th class=\"col_heading level1 col2\" >0</th>        <th class=\"col_heading level1 col3\" >1</th>        <th class=\"col_heading level1 col4\" >0</th>        <th class=\"col_heading level1 col5\" >1</th>        <th class=\"col_heading level1 col6\" >0</th>        <th class=\"col_heading level1 col7\" >1</th>        <th class=\"col_heading level1 col8\" >0</th>        <th class=\"col_heading level1 col9\" >1</th>    </tr>    <tr>        <th class=\"index_name level0\" >toxic</th>        <th class=\"blank\" ></th>        <th class=\"blank\" ></th>        <th class=\"blank\" ></th>        <th class=\"blank\" ></th>        <th class=\"blank\" ></th>        <th class=\"blank\" ></th>        <th class=\"blank\" ></th>        <th class=\"blank\" ></th>        <th class=\"blank\" ></th>        <th class=\"blank\" ></th>    </tr></thead><tbody>\n",
              "                <tr>\n",
              "                        <th id=\"T_5d91b956_8d01_11e9_8f6f_0242ac1c0002level0_row0\" class=\"row_heading level0 row0\" >0</th>\n",
              "                        <td id=\"T_5d91b956_8d01_11e9_8f6f_0242ac1c0002row0_col0\" class=\"data row0 col0\" >144277</td>\n",
              "                        <td id=\"T_5d91b956_8d01_11e9_8f6f_0242ac1c0002row0_col1\" class=\"data row0 col1\" >0</td>\n",
              "                        <td id=\"T_5d91b956_8d01_11e9_8f6f_0242ac1c0002row0_col2\" class=\"data row0 col2\" >143754</td>\n",
              "                        <td id=\"T_5d91b956_8d01_11e9_8f6f_0242ac1c0002row0_col3\" class=\"data row0 col3\" >523</td>\n",
              "                        <td id=\"T_5d91b956_8d01_11e9_8f6f_0242ac1c0002row0_col4\" class=\"data row0 col4\" >144248</td>\n",
              "                        <td id=\"T_5d91b956_8d01_11e9_8f6f_0242ac1c0002row0_col5\" class=\"data row0 col5\" >29</td>\n",
              "                        <td id=\"T_5d91b956_8d01_11e9_8f6f_0242ac1c0002row0_col6\" class=\"data row0 col6\" >143744</td>\n",
              "                        <td id=\"T_5d91b956_8d01_11e9_8f6f_0242ac1c0002row0_col7\" class=\"data row0 col7\" >533</td>\n",
              "                        <td id=\"T_5d91b956_8d01_11e9_8f6f_0242ac1c0002row0_col8\" class=\"data row0 col8\" >144174</td>\n",
              "                        <td id=\"T_5d91b956_8d01_11e9_8f6f_0242ac1c0002row0_col9\" class=\"data row0 col9\" >103</td>\n",
              "            </tr>\n",
              "            <tr>\n",
              "                        <th id=\"T_5d91b956_8d01_11e9_8f6f_0242ac1c0002level0_row1\" class=\"row_heading level0 row1\" >1</th>\n",
              "                        <td id=\"T_5d91b956_8d01_11e9_8f6f_0242ac1c0002row1_col0\" class=\"data row1 col0\" >13699</td>\n",
              "                        <td id=\"T_5d91b956_8d01_11e9_8f6f_0242ac1c0002row1_col1\" class=\"data row1 col1\" >1595</td>\n",
              "                        <td id=\"T_5d91b956_8d01_11e9_8f6f_0242ac1c0002row1_col2\" class=\"data row1 col2\" >7368</td>\n",
              "                        <td id=\"T_5d91b956_8d01_11e9_8f6f_0242ac1c0002row1_col3\" class=\"data row1 col3\" >7926</td>\n",
              "                        <td id=\"T_5d91b956_8d01_11e9_8f6f_0242ac1c0002row1_col4\" class=\"data row1 col4\" >14845</td>\n",
              "                        <td id=\"T_5d91b956_8d01_11e9_8f6f_0242ac1c0002row1_col5\" class=\"data row1 col5\" >449</td>\n",
              "                        <td id=\"T_5d91b956_8d01_11e9_8f6f_0242ac1c0002row1_col6\" class=\"data row1 col6\" >7950</td>\n",
              "                        <td id=\"T_5d91b956_8d01_11e9_8f6f_0242ac1c0002row1_col7\" class=\"data row1 col7\" >7344</td>\n",
              "                        <td id=\"T_5d91b956_8d01_11e9_8f6f_0242ac1c0002row1_col8\" class=\"data row1 col8\" >13992</td>\n",
              "                        <td id=\"T_5d91b956_8d01_11e9_8f6f_0242ac1c0002row1_col9\" class=\"data row1 col9\" >1302</td>\n",
              "            </tr>\n",
              "    </tbody></table>"
            ],
            "text/plain": [
              "<pandas.io.formats.style.Styler at 0x7f4dbf0bfc88>"
            ]
          },
          "metadata": {
            "tags": []
          },
          "execution_count": 14
        }
      ]
    },
    {
      "cell_type": "markdown",
      "metadata": {
        "id": "fFwy50mnw1SB",
        "colab_type": "text"
      },
      "source": [
        "We can see that if a comment is labelled as one or more of the 5 columns in the matrix, it is likely that it's also labelled as toxic."
      ]
    },
    {
      "cell_type": "markdown",
      "metadata": {
        "id": "IgvoBPbWIDnZ",
        "colab_type": "text"
      },
      "source": [
        "# Ordinary Multi-Label Classification"
      ]
    },
    {
      "cell_type": "markdown",
      "metadata": {
        "id": "MyK8oz2Fxysq",
        "colab_type": "text"
      },
      "source": [
        "Here we train an ordinary LSTM. "
      ]
    },
    {
      "cell_type": "code",
      "metadata": {
        "id": "UwNLWDTXIUY0",
        "colab_type": "code",
        "colab": {
          "base_uri": "https://localhost:8080/",
          "height": 34
        },
        "outputId": "c771aaa0-3f4c-4145-ee8c-46f35328a4be"
      },
      "source": [
        "import sys, os, re, csv, codecs\n",
        "\n",
        "from keras.preprocessing.text import Tokenizer, text_to_word_sequence\n",
        "from keras.preprocessing.sequence import pad_sequences\n",
        "from keras.layers import Dense, Input, LSTM, Embedding, Dropout, Activation\n",
        "from keras.layers import Bidirectional, GlobalMaxPool1D, Flatten\n",
        "from keras.models import Model\n",
        "from keras import initializers, regularizers, constraints, optimizers, layers\n",
        "import matplotlib.pyplot as plt\n",
        "from sklearn.model_selection import train_test_split\n",
        "from sklearn.metrics import accuracy_score\n",
        "from sklearn.metrics import hamming_loss"
      ],
      "execution_count": 15,
      "outputs": [
        {
          "output_type": "stream",
          "text": [
            "Using TensorFlow backend.\n"
          ],
          "name": "stderr"
        }
      ]
    },
    {
      "cell_type": "markdown",
      "metadata": {
        "id": "5oALVsJExWt4",
        "colab_type": "text"
      },
      "source": [
        "Train/Test Split:"
      ]
    },
    {
      "cell_type": "code",
      "metadata": {
        "id": "kCSWOWtQNt7F",
        "colab_type": "code",
        "colab": {}
      },
      "source": [
        "list_classes = ['toxic', 'severe_toxic', 'obscene', 'threat', 'insult', 'identity_hate', 'none']"
      ],
      "execution_count": 0,
      "outputs": []
    },
    {
      "cell_type": "code",
      "metadata": {
        "id": "lrloKDqDMDr9",
        "colab_type": "code",
        "colab": {}
      },
      "source": [
        "X_train,X_test,y_train,y_test = train_test_split(train[\"comment_text\"], train[list_classes],test_size=0.2,random_state=10)"
      ],
      "execution_count": 0,
      "outputs": []
    },
    {
      "cell_type": "markdown",
      "metadata": {
        "id": "S_5h9enByICo",
        "colab_type": "text"
      },
      "source": [
        "Now, we tokenize and transform (vectorize) our dataset:"
      ]
    },
    {
      "cell_type": "code",
      "metadata": {
        "id": "Pytw1SllMq0x",
        "colab_type": "code",
        "colab": {}
      },
      "source": [
        "import string\n",
        "maxlen = 50\n",
        "y_t = y_train[list_classes].values\n",
        "y_te = y_test[list_classes].values\n",
        "#list sentences from the dataset\n",
        "list_sentences_train = X_train\n",
        "list_sentences_test = X_test\n",
        "\n",
        "tokenizer = Tokenizer(split = f'([{string.punctuation}“”¨«»®´·º½¾¿¡§£₤‘’])', lower = True)\n",
        "tokenizer.fit_on_texts(list(list_sentences_train))\n",
        "list_tokenized_train = tokenizer.texts_to_sequences(list_sentences_train)\n",
        "list_tokenized_test = tokenizer.texts_to_sequences(list_sentences_test)\n",
        "X_t = pad_sequences(list_tokenized_train, maxlen=maxlen)\n",
        "X_te = pad_sequences(list_tokenized_test, maxlen=maxlen)"
      ],
      "execution_count": 0,
      "outputs": []
    },
    {
      "cell_type": "markdown",
      "metadata": {
        "id": "f8OhqUAsyXXG",
        "colab_type": "text"
      },
      "source": [
        "A simple ordinary architecture: (note that the last layer is sigmoid not softmax since the label are not mutually exclusive)"
      ]
    },
    {
      "cell_type": "code",
      "metadata": {
        "id": "krLQWFGaOAIu",
        "colab_type": "code",
        "colab": {
          "base_uri": "https://localhost:8080/",
          "height": 139
        },
        "outputId": "ee28026f-80f7-436d-f842-17c2d6ff6181"
      },
      "source": [
        "inp = Input(shape=(X_t.shape[1],))\n",
        "x = Embedding(2000000, X_t.shape[1])(inp)\n",
        "x = LSTM(50, return_sequences=True, dropout=0.1, recurrent_dropout=0.1)(x)\n",
        "x = GlobalMaxPool1D()(x)\n",
        "x = Dense(50, activation=\"relu\")(x)\n",
        "x = Dropout(0.1)(x)\n",
        "x = Dense(7, activation=\"sigmoid\")(x)\n",
        "model = Model(inputs=inp, outputs=x)\n",
        "history = model.compile(loss='binary_crossentropy', optimizer='adam', metrics=['accuracy'])"
      ],
      "execution_count": 19,
      "outputs": [
        {
          "output_type": "stream",
          "text": [
            "WARNING:tensorflow:From /usr/local/lib/python3.6/dist-packages/tensorflow/python/framework/op_def_library.py:263: colocate_with (from tensorflow.python.framework.ops) is deprecated and will be removed in a future version.\n",
            "Instructions for updating:\n",
            "Colocations handled automatically by placer.\n",
            "WARNING:tensorflow:From /usr/local/lib/python3.6/dist-packages/keras/backend/tensorflow_backend.py:3445: calling dropout (from tensorflow.python.ops.nn_ops) with keep_prob is deprecated and will be removed in a future version.\n",
            "Instructions for updating:\n",
            "Please use `rate` instead of `keep_prob`. Rate should be set to `rate = 1 - keep_prob`.\n"
          ],
          "name": "stdout"
        }
      ]
    },
    {
      "cell_type": "code",
      "metadata": {
        "id": "cenje5VeOHTF",
        "colab_type": "code",
        "colab": {
          "base_uri": "https://localhost:8080/",
          "height": 292
        },
        "outputId": "2bda9c00-fe85-403d-d18a-64016967369f"
      },
      "source": [
        "history = model.fit(X_t, y_train, batch_size=32, epochs=2, validation_split=0.25)"
      ],
      "execution_count": 20,
      "outputs": [
        {
          "output_type": "stream",
          "text": [
            "WARNING:tensorflow:From /usr/local/lib/python3.6/dist-packages/tensorflow/python/ops/math_ops.py:3066: to_int32 (from tensorflow.python.ops.math_ops) is deprecated and will be removed in a future version.\n",
            "Instructions for updating:\n",
            "Use tf.cast instead.\n",
            "WARNING:tensorflow:From /usr/local/lib/python3.6/dist-packages/tensorflow/python/ops/math_grad.py:102: div (from tensorflow.python.ops.math_ops) is deprecated and will be removed in a future version.\n",
            "Instructions for updating:\n",
            "Deprecated in favor of operator or tf.math.divide.\n"
          ],
          "name": "stdout"
        },
        {
          "output_type": "stream",
          "text": [
            "/usr/local/lib/python3.6/dist-packages/tensorflow/python/ops/gradients_impl.py:107: UserWarning: Converting sparse IndexedSlices to a dense Tensor with 100000000 elements. This may consume a large amount of memory.\n",
            "  num_elements)\n",
            "/usr/local/lib/python3.6/dist-packages/tensorflow/python/ops/gradients_impl.py:107: UserWarning: Converting sparse IndexedSlices to a dense Tensor with 100000000 elements. This may consume a large amount of memory.\n",
            "  num_elements)\n"
          ],
          "name": "stderr"
        },
        {
          "output_type": "stream",
          "text": [
            "Train on 95742 samples, validate on 31914 samples\n",
            "Epoch 1/2\n",
            "95742/95742 [==============================] - 776s 8ms/step - loss: 0.1659 - acc: 0.9531 - val_loss: 0.1497 - val_acc: 0.9528\n",
            "Epoch 2/2\n",
            "95742/95742 [==============================] - 769s 8ms/step - loss: 0.0724 - acc: 0.9737 - val_loss: 0.1581 - val_acc: 0.9526\n"
          ],
          "name": "stdout"
        }
      ]
    },
    {
      "cell_type": "markdown",
      "metadata": {
        "id": "IjY9EKmKzQ6Z",
        "colab_type": "text"
      },
      "source": [
        "Decet accuracy with some overfit, as seen here:"
      ]
    },
    {
      "cell_type": "code",
      "metadata": {
        "id": "dqORo6wnO5xS",
        "colab_type": "code",
        "colab": {
          "base_uri": "https://localhost:8080/",
          "height": 590
        },
        "outputId": "5c091f7e-7052-4ba7-e764-9f03fee81408"
      },
      "source": [
        "def show_graphs(history):\n",
        "  # list all data in history\n",
        "  print(history.history.keys())\n",
        "  # summarize history for accuracy\n",
        "  plt.plot(history.history['acc'])\n",
        "  plt.plot(history.history['val_acc'])\n",
        "  plt.title('model accuracy')\n",
        "  plt.ylabel('accuracy')\n",
        "  plt.xlabel('epoch')\n",
        "  plt.legend(['train', 'val'], loc='upper left')\n",
        "  plt.show()\n",
        "  # summarize history for loss\n",
        "  plt.plot(history.history['loss'])\n",
        "  plt.plot(history.history['val_loss'])\n",
        "  plt.title('model loss')\n",
        "  plt.ylabel('loss')\n",
        "  plt.xlabel('epoch')\n",
        "  plt.legend(['train', 'val'], loc='upper left')\n",
        "  plt.show()\n",
        "\n",
        "show_graphs(history)"
      ],
      "execution_count": 21,
      "outputs": [
        {
          "output_type": "stream",
          "text": [
            "dict_keys(['val_loss', 'val_acc', 'loss', 'acc'])\n"
          ],
          "name": "stdout"
        },
        {
          "output_type": "display_data",
          "data": {
            "image/png": "[encoded data removed]",
            "text/plain": [
              "<Figure size 432x288 with 1 Axes>"
            ]
          },
          "metadata": {
            "tags": []
          }
        },
        {
          "output_type": "display_data",
          "data": {
            "image/png": "[encoded data removed]",
            "text/plain": [
              "<Figure size 432x288 with 1 Axes>"
            ]
          },
          "metadata": {
            "tags": []
          }
        }
      ]
    },
    {
      "cell_type": "markdown",
      "metadata": {
        "id": "a2aNsP67zbeB",
        "colab_type": "text"
      },
      "source": [
        "Let's evaluate the test set:"
      ]
    },
    {
      "cell_type": "code",
      "metadata": {
        "id": "7CZj5HcW_Q0C",
        "colab_type": "code",
        "colab": {
          "base_uri": "https://localhost:8080/",
          "height": 51
        },
        "outputId": "535fff87-4147-4956-f761-aeff0f46f165"
      },
      "source": [
        "score, acc = model.evaluate(X_te, y_te,\n",
        "                            batch_size=32)\n",
        "print('Test accuracy:', acc)"
      ],
      "execution_count": 22,
      "outputs": [
        {
          "output_type": "stream",
          "text": [
            "31915/31915 [==============================] - 60s 2ms/step\n",
            "Test accuracy: 0.9574047203051265\n"
          ],
          "name": "stdout"
        }
      ]
    },
    {
      "cell_type": "markdown",
      "metadata": {
        "id": "qr9kgj26zpnw",
        "colab_type": "text"
      },
      "source": [
        "We don't want to depend only on keras's evaluate method because we can't use for our very last combined predictions in part 2 (since the predictions are from two different models). Thus, we will also calculate the test accuracy using the hamming loss (i.e 1- hamming loss). Note that we did not use scikit learn's accuracy_score since it is not suitable for multi-label classification. More info about hamming loss here: https://scikit-learn.org/stable/modules/generated/sklearn.metrics.hamming_loss.html"
      ]
    },
    {
      "cell_type": "code",
      "metadata": {
        "id": "ozK0_5SlNpS8",
        "colab_type": "code",
        "colab": {
          "base_uri": "https://localhost:8080/",
          "height": 34
        },
        "outputId": "49cc294b-b136-4b11-9da6-4aeff05fd6f5"
      },
      "source": [
        "1 - hamming_loss(y_te, (model.predict(X_te) > 0.5).astype(int))"
      ],
      "execution_count": 23,
      "outputs": [
        {
          "output_type": "execute_result",
          "data": {
            "text/plain": [
              "0.95740471341286"
            ]
          },
          "metadata": {
            "tags": []
          },
          "execution_count": 23
        }
      ]
    },
    {
      "cell_type": "markdown",
      "metadata": {
        "id": "iz3tm8c50p25",
        "colab_type": "text"
      },
      "source": [
        "almost the same as keras's evaluation."
      ]
    },
    {
      "cell_type": "markdown",
      "metadata": {
        "id": "1GcL-3YlP3gd",
        "colab_type": "text"
      },
      "source": [
        "# Multi-Label Classification Using Glove"
      ]
    },
    {
      "cell_type": "markdown",
      "metadata": {
        "id": "Vjw_9vJg0ujA",
        "colab_type": "text"
      },
      "source": [
        "Now we do the same thing but with the assist of the GloVe (Global Vectors for Word Representation) dataset. More info about GloVe here: https://nlp.stanford.edu/projects/glove/"
      ]
    },
    {
      "cell_type": "code",
      "metadata": {
        "id": "Pj8QB1JHUmjQ",
        "colab_type": "code",
        "colab": {
          "base_uri": "https://localhost:8080/",
          "height": 51
        },
        "outputId": "e8f2faaa-f85a-46e5-bdd6-5eda5127983a"
      },
      "source": [
        "!unzip ./{/content}/datasets/yliu9999/glove6b50d/glove6b50d.zip"
      ],
      "execution_count": 24,
      "outputs": [
        {
          "output_type": "stream",
          "text": [
            "Archive:  ./{/content}/datasets/yliu9999/glove6b50d/glove6b50d.zip\n",
            "replace glove.6B.50d.txt? [y]es, [n]o, [A]ll, [N]one, [r]ename: n\n"
          ],
          "name": "stdout"
        }
      ]
    },
    {
      "cell_type": "code",
      "metadata": {
        "id": "_mSQplTHQFLJ",
        "colab_type": "code",
        "colab": {}
      },
      "source": [
        "list_sentences_train = X_train.fillna(\"_na_\").values\n",
        "list_sentences_test = X_test.fillna(\"_na_\").values\n",
        "y_t = y_train[list_classes].values\n",
        "y_te = y_test[list_classes].values"
      ],
      "execution_count": 0,
      "outputs": []
    },
    {
      "cell_type": "markdown",
      "metadata": {
        "id": "y_dh3v__13EZ",
        "colab_type": "text"
      },
      "source": [
        "Vectorize our dataset and create an embedding matrix:"
      ]
    },
    {
      "cell_type": "code",
      "metadata": {
        "id": "SQ--uKOMRz4Q",
        "colab_type": "code",
        "colab": {}
      },
      "source": [
        "EMBEDDING_FILE='glove.6B.50d.txt'\n",
        "embed_size = 50 # how big is each word vector\n",
        "max_features = 20000 # how many unique words to use (i.e num rows in embedding vector)\n",
        "maxlen = 100 # "
      ],
      "execution_count": 0,
      "outputs": []
    },
    {
      "cell_type": "code",
      "metadata": {
        "id": "tX1oqnvJR29Z",
        "colab_type": "code",
        "colab": {}
      },
      "source": [
        "tokenizer = Tokenizer(num_words=max_features)\n",
        "tokenizer.fit_on_texts(list(list_sentences_train))\n",
        "list_tokenized_train = tokenizer.texts_to_sequences(list_sentences_train)\n",
        "list_tokenized_test = tokenizer.texts_to_sequences(list_sentences_test)\n",
        "X_t = pad_sequences(list_tokenized_train, maxlen=maxlen)\n",
        "X_te = pad_sequences(list_tokenized_test, maxlen=maxlen)"
      ],
      "execution_count": 0,
      "outputs": []
    },
    {
      "cell_type": "code",
      "metadata": {
        "id": "1xZT_C5jR8NY",
        "colab_type": "code",
        "colab": {}
      },
      "source": [
        "def get_coefs(word,*arr): return word, np.asarray(arr, dtype='float32')\n",
        "embeddings_index = dict(get_coefs(*o.strip().split()) for o in open(EMBEDDING_FILE))"
      ],
      "execution_count": 0,
      "outputs": []
    },
    {
      "cell_type": "code",
      "metadata": {
        "id": "EqIWmry2R_Mm",
        "colab_type": "code",
        "colab": {
          "base_uri": "https://localhost:8080/",
          "height": 71
        },
        "outputId": "63b94a3b-e4db-4b75-cc30-6388de68cb81"
      },
      "source": [
        "all_embs = np.stack(embeddings_index.values())\n",
        "emb_mean,emb_std = all_embs.mean(), all_embs.std()"
      ],
      "execution_count": 29,
      "outputs": [
        {
          "output_type": "stream",
          "text": [
            "/usr/local/lib/python3.6/dist-packages/ipykernel_launcher.py:1: FutureWarning: arrays to stack must be passed as a \"sequence\" type such as list or tuple. Support for non-sequence iterables such as generators is deprecated as of NumPy 1.16 and will raise an error in the future.\n",
            "  \"\"\"Entry point for launching an IPython kernel.\n"
          ],
          "name": "stderr"
        }
      ]
    },
    {
      "cell_type": "code",
      "metadata": {
        "id": "eb6Hac6kSB2m",
        "colab_type": "code",
        "colab": {}
      },
      "source": [
        "word_index = tokenizer.word_index\n",
        "nb_words = min(max_features, len(word_index))\n",
        "embedding_matrix = np.random.normal(emb_mean, emb_std, (nb_words, embed_size))\n",
        "for word, i in word_index.items():\n",
        "    if i >= max_features: continue\n",
        "    embedding_vector = embeddings_index.get(word)\n",
        "    if embedding_vector is not None: embedding_matrix[i] = embedding_vector"
      ],
      "execution_count": 0,
      "outputs": []
    },
    {
      "cell_type": "markdown",
      "metadata": {
        "id": "jvggBu782H5R",
        "colab_type": "text"
      },
      "source": [
        "smae architecture as before:"
      ]
    },
    {
      "cell_type": "code",
      "metadata": {
        "id": "5hQsfB9YSJsh",
        "colab_type": "code",
        "colab": {}
      },
      "source": [
        "inp = Input(shape=(X_t.shape[1],))\n",
        "x = Embedding(max_features, X_t.shape[1])(inp)\n",
        "x = LSTM(50, return_sequences=True, dropout=0.1, recurrent_dropout=0.1)(x)\n",
        "x = GlobalMaxPool1D()(x)\n",
        "x = Dense(50, activation=\"relu\")(x)\n",
        "x = Dropout(0.1)(x)\n",
        "x = Dense(7, activation=\"sigmoid\")(x)\n",
        "\n",
        "model2 = Model(inputs=inp, outputs=x)\n",
        "model2.compile(loss='categorical_crossentropy', optimizer='adam', metrics=['accuracy'])"
      ],
      "execution_count": 0,
      "outputs": []
    },
    {
      "cell_type": "code",
      "metadata": {
        "id": "VR7Q687pSLS5",
        "colab_type": "code",
        "colab": {
          "base_uri": "https://localhost:8080/",
          "height": 122
        },
        "outputId": "a3c7a8a2-b346-4c6b-c158-36262e7867a6"
      },
      "source": [
        "history2 = model2.fit(X_t, y_t, batch_size=40, epochs=2, validation_split=0.2)"
      ],
      "execution_count": 32,
      "outputs": [
        {
          "output_type": "stream",
          "text": [
            "Train on 102124 samples, validate on 25532 samples\n",
            "Epoch 1/2\n",
            "102124/102124 [==============================] - 876s 9ms/step - loss: 0.5627 - acc: 0.9382 - val_loss: 0.4216 - val_acc: 0.9590\n",
            "Epoch 2/2\n",
            "102124/102124 [==============================] - 953s 9ms/step - loss: 0.3937 - acc: 0.9617 - val_loss: 0.4153 - val_acc: 0.9586\n"
          ],
          "name": "stdout"
        }
      ]
    },
    {
      "cell_type": "markdown",
      "metadata": {
        "id": "TcQ_lzP42RAJ",
        "colab_type": "text"
      },
      "source": [
        "An ever so slight increase in validation accuracy, and less overfit."
      ]
    },
    {
      "cell_type": "code",
      "metadata": {
        "id": "4BJQqPRMcNA1",
        "colab_type": "code",
        "colab": {
          "base_uri": "https://localhost:8080/",
          "height": 590
        },
        "outputId": "244e91c5-ef30-44b6-cf05-335ea3a4db73"
      },
      "source": [
        "show_graphs(history2)"
      ],
      "execution_count": 33,
      "outputs": [
        {
          "output_type": "stream",
          "text": [
            "dict_keys(['val_loss', 'val_acc', 'loss', 'acc'])\n"
          ],
          "name": "stdout"
        },
        {
          "output_type": "display_data",
          "data": {
            "image/png": "[encoded data removed]",
            "text/plain": [
              "<Figure size 432x288 with 1 Axes>"
            ]
          },
          "metadata": {
            "tags": []
          }
        },
        {
          "output_type": "display_data",
          "data": {
            "image/png": "[encoded data removed]",
            "text/plain": [
              "<Figure size 432x288 with 1 Axes>"
            ]
          },
          "metadata": {
            "tags": []
          }
        }
      ]
    },
    {
      "cell_type": "markdown",
      "metadata": {
        "id": "CABynQRj2fDi",
        "colab_type": "text"
      },
      "source": [
        "Let's see how it performs with the test set:"
      ]
    },
    {
      "cell_type": "code",
      "metadata": {
        "id": "UtYVz2Sm_2U7",
        "colab_type": "code",
        "colab": {
          "base_uri": "https://localhost:8080/",
          "height": 51
        },
        "outputId": "3eb0b519-2b7e-4157-ba06-54f995815e80"
      },
      "source": [
        "score, acc = model2.evaluate(X_te, y_te,\n",
        "                            batch_size=32)\n",
        "print('Test accuracy:', acc)"
      ],
      "execution_count": 34,
      "outputs": [
        {
          "output_type": "stream",
          "text": [
            "31915/31915 [==============================] - 112s 4ms/step\n",
            "Test accuracy: 0.9597994673444469\n"
          ],
          "name": "stdout"
        }
      ]
    },
    {
      "cell_type": "markdown",
      "metadata": {
        "id": "1CNQkXtD2jIK",
        "colab_type": "text"
      },
      "source": [
        "Again, only a very small increase. Let's check the accuracy using the hamming loss:"
      ]
    },
    {
      "cell_type": "code",
      "metadata": {
        "id": "q_x3s9urOTTQ",
        "colab_type": "code",
        "colab": {
          "base_uri": "https://localhost:8080/",
          "height": 34
        },
        "outputId": "f6870a17-b7a0-41cf-ac66-00d0f16cd03f"
      },
      "source": [
        "1 - hamming_loss(y_te, (model2.predict(X_te) > 0.5).astype(int))"
      ],
      "execution_count": 35,
      "outputs": [
        {
          "output_type": "execute_result",
          "data": {
            "text/plain": [
              "0.9786844520042076"
            ]
          },
          "metadata": {
            "tags": []
          },
          "execution_count": 35
        }
      ]
    },
    {
      "cell_type": "markdown",
      "metadata": {
        "id": "ArJsD4n62s6b",
        "colab_type": "text"
      },
      "source": [
        "Almost 2% higher than keras's evaluation."
      ]
    },
    {
      "cell_type": "markdown",
      "metadata": {
        "id": "Xqh_sj8t22Qg",
        "colab_type": "text"
      },
      "source": [
        "# End of Part 1"
      ]
    }
  ]
}